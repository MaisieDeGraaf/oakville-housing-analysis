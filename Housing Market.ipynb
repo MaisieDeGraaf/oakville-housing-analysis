{
 "cells": [
  {
   "cell_type": "code",
   "execution_count": 1,
   "id": "d28ec504",
   "metadata": {},
   "outputs": [],
   "source": [
    "#Dependencies\n",
    "import pandas as pd\n",
    "from pathlib import Path\n",
    "import csv\n",
    "import numpy as np"
   ]
  },
  {
   "cell_type": "markdown",
   "id": "df5a643c",
   "metadata": {},
   "source": [
    "**Population**"
   ]
  },
  {
   "cell_type": "code",
   "execution_count": 2,
   "id": "25658703",
   "metadata": {},
   "outputs": [
    {
     "name": "stdout",
     "output_type": "stream",
     "text": [
      "175383 and 159458\n"
     ]
    }
   ],
   "source": [
    "#Listing all my paths\n",
    "data = Path(\"Resources1/2016 - 2021 Population - Oshawa.csv\")\n",
    "\n",
    "#Read the csv file\n",
    "df = pd.read_csv(data)\n",
    "oshawa_pop_2021 = df.index[3][3]\n",
    "oshawa_pop_2016 = df.index[4][3]\n",
    "print(oshawa_pop_2021+\" \"+\"and\"+\" \"+oshawa_pop_2016)"
   ]
  },
  {
   "cell_type": "code",
   "execution_count": 3,
   "id": "5a44b435",
   "metadata": {},
   "outputs": [
    {
     "data": {
      "text/html": [
       "<div>\n",
       "<style scoped>\n",
       "    .dataframe tbody tr th:only-of-type {\n",
       "        vertical-align: middle;\n",
       "    }\n",
       "\n",
       "    .dataframe tbody tr th {\n",
       "        vertical-align: top;\n",
       "    }\n",
       "\n",
       "    .dataframe thead th {\n",
       "        text-align: right;\n",
       "    }\n",
       "</style>\n",
       "<table border=\"1\" class=\"dataframe\">\n",
       "  <thead>\n",
       "    <tr style=\"text-align: right;\">\n",
       "      <th></th>\n",
       "      <th></th>\n",
       "      <th>Population</th>\n",
       "    </tr>\n",
       "    <tr>\n",
       "      <th>City</th>\n",
       "      <th>Year</th>\n",
       "      <th></th>\n",
       "    </tr>\n",
       "  </thead>\n",
       "  <tbody>\n",
       "    <tr>\n",
       "      <th rowspan=\"2\" valign=\"top\">Oshawa</th>\n",
       "      <th>2016</th>\n",
       "      <td>159458</td>\n",
       "    </tr>\n",
       "    <tr>\n",
       "      <th>2021</th>\n",
       "      <td>175383</td>\n",
       "    </tr>\n",
       "  </tbody>\n",
       "</table>\n",
       "</div>"
      ],
      "text/plain": [
       "             Population\n",
       "City   Year            \n",
       "Oshawa 2016      159458\n",
       "        2021     175383"
      ]
     },
     "execution_count": 3,
     "metadata": {},
     "output_type": "execute_result"
    }
   ],
   "source": [
    "\n",
    "#Create a MultiIndex using an Index and a column:\n",
    "\n",
    "Oshawa_df = pd.DataFrame({'City': ['Oshawa', 'Oshawa' ],\n",
    "                          'Year': ['2016',' 2021'],\n",
    "                          'Population': [oshawa_pop_2016, oshawa_pop_2021,],\n",
    "                         })\n",
    "Oshawa_df = Oshawa_df.set_index(['City', 'Year'])\n",
    "Oshawa_df"
   ]
  },
  {
   "cell_type": "markdown",
   "id": "08643745",
   "metadata": {},
   "source": [
    "**Household Income**"
   ]
  },
  {
   "cell_type": "code",
   "execution_count": 23,
   "id": "d40d5b4d",
   "metadata": {},
   "outputs": [
    {
     "data": {
      "text/plain": [
       "'   70211'"
      ]
     },
     "execution_count": 23,
     "metadata": {},
     "output_type": "execute_result"
    }
   ],
   "source": [
    "#Listing all my paths\n",
    "data_2016 = Path(\"Resources1/2016 Household Income (stat can) - Oshawa.csv\")\n",
    "\n",
    "#Read the csv file\n",
    "df_2016 = pd.read_csv(data_2016, encoding = \"ISO-8859-1\")\n",
    "oshawa_income_2016 = df_2016.index[83][3]\n",
    "oshawa_income_2016"
   ]
  },
  {
   "cell_type": "code",
   "execution_count": 20,
   "id": "463e9b66",
   "metadata": {},
   "outputs": [
    {
     "data": {
      "text/plain": [
       "' 86000'"
      ]
     },
     "execution_count": 20,
     "metadata": {},
     "output_type": "execute_result"
    }
   ],
   "source": [
    "#Listing all my paths\n",
    "data_2021 = Path(\"Resources1/2021 Household Income (stat can) - Oshawa.csv\")\n",
    "\n",
    "#Read the csv file\n",
    "df_2021 = pd.read_csv(data_2021, encoding = \"ISO-8859-1\")\n",
    "oshawa_income_2021 = df_2021.index[4][3]\n",
    "oshawa_income_2021"
   ]
  },
  {
   "cell_type": "code",
   "execution_count": 24,
   "id": "a3d527a3",
   "metadata": {},
   "outputs": [
    {
     "data": {
      "text/html": [
       "<div>\n",
       "<style scoped>\n",
       "    .dataframe tbody tr th:only-of-type {\n",
       "        vertical-align: middle;\n",
       "    }\n",
       "\n",
       "    .dataframe tbody tr th {\n",
       "        vertical-align: top;\n",
       "    }\n",
       "\n",
       "    .dataframe thead th {\n",
       "        text-align: right;\n",
       "    }\n",
       "</style>\n",
       "<table border=\"1\" class=\"dataframe\">\n",
       "  <thead>\n",
       "    <tr style=\"text-align: right;\">\n",
       "      <th></th>\n",
       "      <th></th>\n",
       "      <th>Population</th>\n",
       "      <th>Household Income</th>\n",
       "    </tr>\n",
       "    <tr>\n",
       "      <th>City</th>\n",
       "      <th>Year</th>\n",
       "      <th></th>\n",
       "      <th></th>\n",
       "    </tr>\n",
       "  </thead>\n",
       "  <tbody>\n",
       "    <tr>\n",
       "      <th rowspan=\"2\" valign=\"top\">Oshawa</th>\n",
       "      <th>2016</th>\n",
       "      <td>159458</td>\n",
       "      <td>70211</td>\n",
       "    </tr>\n",
       "    <tr>\n",
       "      <th>2021</th>\n",
       "      <td>175383</td>\n",
       "      <td>86000</td>\n",
       "    </tr>\n",
       "  </tbody>\n",
       "</table>\n",
       "</div>"
      ],
      "text/plain": [
       "             Population Household Income\n",
       "City   Year                             \n",
       "Oshawa 2016      159458            70211\n",
       "        2021     175383            86000"
      ]
     },
     "execution_count": 24,
     "metadata": {},
     "output_type": "execute_result"
    }
   ],
   "source": [
    "Oshawa_df[\"Household Income\"] = [oshawa_income_2016,oshawa_income_2021]\n",
    "Oshawa_df"
   ]
  },
  {
   "cell_type": "code",
   "execution_count": null,
   "id": "bba7437c",
   "metadata": {},
   "outputs": [],
   "source": []
  }
 ],
 "metadata": {
  "kernelspec": {
   "display_name": "Python 3 (ipykernel)",
   "language": "python",
   "name": "python3"
  },
  "language_info": {
   "codemirror_mode": {
    "name": "ipython",
    "version": 3
   },
   "file_extension": ".py",
   "mimetype": "text/x-python",
   "name": "python",
   "nbconvert_exporter": "python",
   "pygments_lexer": "ipython3",
   "version": "3.11.5"
  }
 },
 "nbformat": 4,
 "nbformat_minor": 5
}
