{
 "cells": [
  {
   "cell_type": "code",
   "execution_count": null,
   "id": "41871ff5",
   "metadata": {
    "ExecuteTime": {
     "end_time": "2023-12-13T23:54:50.819459Z",
     "start_time": "2023-12-13T23:54:50.639360Z"
    }
   },
   "outputs": [],
   "source": [
    "import pandas as pd\n",
    "from api_keys import apify_key\n",
    "import json\n",
    "import requests\n",
    "import hvplot.pandas\n",
    "import holoviews as hv\n",
    "import geoviews as gv\n"
   ]
  },
  {
   "cell_type": "code",
   "execution_count": 2,
   "id": "5829179a",
   "metadata": {
    "ExecuteTime": {
     "end_time": "2023-12-13T23:55:02.034916Z",
     "start_time": "2023-12-13T23:54:50.820471Z"
    }
   },
   "outputs": [],
   "source": [
    "%%capture --no-display\n",
    "%run Burlington_Data_2021.ipynb"
   ]
  },
  {
   "cell_type": "code",
   "execution_count": 3,
   "id": "c22458f4",
   "metadata": {
    "ExecuteTime": {
     "end_time": "2023-12-13T23:55:08.329700Z",
     "start_time": "2023-12-13T23:55:02.035280Z"
    }
   },
   "outputs": [],
   "source": [
    "%%capture --no-display\n",
    "%run Oshawa.ipynb"
   ]
  },
  {
   "cell_type": "code",
   "execution_count": null,
   "id": "8e984293",
   "metadata": {
    "ExecuteTime": {
     "end_time": "2023-12-13T23:55:15.094111Z",
     "start_time": "2023-12-13T23:55:08.332669Z"
    }
   },
   "outputs": [],
   "source": [
    "%%capture --no-display\n",
    "%run Housing.ipynb"
   ]
  },
  {
   "cell_type": "code",
   "execution_count": null,
   "id": "9a67fcc0",
   "metadata": {
    "ExecuteTime": {
     "end_time": "2023-12-13T23:55:20.912596Z",
     "start_time": "2023-12-13T23:55:15.094941Z"
    }
   },
   "outputs": [],
   "source": [
    "%%capture --no-display\n",
    "%run Vaughan.ipynb"
   ]
  },
  {
   "cell_type": "code",
   "execution_count": null,
   "id": "1ac9cc0b",
   "metadata": {
    "ExecuteTime": {
     "end_time": "2023-12-13T23:55:26.504239Z",
     "start_time": "2023-12-13T23:55:20.907497Z"
    }
   },
   "outputs": [],
   "source": [
    "%%capture --no-display\n",
    "%run \"Milton Analysis Project 1 Bootcamp.ipynb\""
   ]
  },
  {
   "cell_type": "code",
   "execution_count": null,
   "id": "f655e985",
   "metadata": {
    "ExecuteTime": {
     "end_time": "2023-12-13T23:55:26.536138Z",
     "start_time": "2023-12-13T23:55:26.516069Z"
    }
   },
   "outputs": [],
   "source": [
    "all_cities_df = pd.concat([burlington_final_df, Oakville_df, vaughan_df, cleaned_milton_df, Oshawa_df])\n",
    "all_cities_df = all_cities_df.iloc[:, :-1]\n",
    "all_cities_df = all_cities_df.replace({'\\$': '', ',': '', '%': ''}, regex=True)\n",
    "all_cities_df = all_cities_df.astype(float)\n",
    "all_cities_df"
   ]
  },
  {
   "cell_type": "code",
   "execution_count": null,
   "id": "2407f378",
   "metadata": {
    "ExecuteTime": {
     "end_time": "2023-12-13T23:55:26.536995Z",
     "start_time": "2023-12-13T23:55:26.530492Z"
    }
   },
   "outputs": [],
   "source": [
    "all_amenities_df = pd.concat([burlington_amenities_df, Oakville_amenities_df, vaughan_amenities_df, milton_leisure_df, Oshawa_amenities_df])\n",
    "all_amenities_df = all_amenities_df.astype(int)\n",
    "all_amenities_df"
   ]
  },
  {
   "cell_type": "markdown",
   "id": "8719550188f415e7",
   "metadata": {},
   "source": [
    "# Comparison between Estimated House Value vs Average Sale Price (both years on one bar graph)"
   ]
  },
  {
   "cell_type": "code",
   "execution_count": null,
   "id": "7941c05c-4d5c-43e1-a943-44f41cc9b0ce",
   "metadata": {
    "ExecuteTime": {
     "end_time": "2023-12-13T23:55:26.866881Z",
     "start_time": "2023-12-13T23:55:26.539222Z"
    }
   },
   "outputs": [],
   "source": [
    "import matplotlib.pyplot as plt\n",
    "\n",
    "# Reset index to get Year into its own column and change type to integer\n",
    "all_cities_reset_df = all_cities_df.reset_index(level='Year')\n",
    "all_cities_reset_df['Year'] = all_cities_reset_df['Year'].astype(int)\n",
    "\n",
    "# Filter the DataFrame to include only the relevant columns\n",
    "est_house_value_df = all_cities_reset_df[['Year', 'Estimated House Value ($)']]\n",
    "\n",
    "# Pivot the DataFrame to have 'Year' as the columns\n",
    "estimated_house = est_house_value_df.pivot(columns='Year', values='Estimated House Value ($)')\n",
    "\n",
    "# Plot the bar graph\n",
    "estimated_house.plot(kind='bar', color=['red', 'blue'])\n",
    "plt.title('Estimated House Value for all Cities in 2016 and 2021')\n",
    "plt.ylabel('Estimated House Value in millions ($)')\n",
    "plt.xticks(rotation=45, ha='right')  \n",
    "plt.legend(title='Year')\n",
    "plt.tight_layout()\n",
    "plt.show()"
   ]
  },
  {
   "cell_type": "code",
   "execution_count": null,
   "id": "ebcd13b3-1e74-4c2c-bc3d-88962dce3a8d",
   "metadata": {
    "ExecuteTime": {
     "end_time": "2023-12-13T23:55:26.918899Z",
     "start_time": "2023-12-13T23:55:26.684130Z"
    }
   },
   "outputs": [],
   "source": [
    "avg_sale_price_df = all_cities_reset_df[['Year', 'Average Sale Price ($)']]\n",
    "\n",
    "average_sale = avg_sale_price_df.pivot(columns='Year', values='Average Sale Price ($)')\n",
    "\n",
    "# Plot the bar graph\n",
    "average_sale.plot(kind='bar', color=['tab:red', 'tab:blue'])\n",
    "plt.title('Average Sale Price for all Cities in 2016 and 2021')\n",
    "plt.ylabel('Average Sale Price ($)')\n",
    "plt.xticks(rotation=45, ha='right')  \n",
    "plt.legend(title='Year')\n",
    "plt.tight_layout()\n",
    "plt.show()"
   ]
  },
  {
   "cell_type": "code",
   "execution_count": null,
   "id": "ca2a69e3-f41f-4b70-8fc0-1fd023ed56d1",
   "metadata": {
    "ExecuteTime": {
     "end_time": "2023-12-13T23:55:26.920208Z",
     "start_time": "2023-12-13T23:55:26.750178Z"
    }
   },
   "outputs": [],
   "source": [
    "estimated_avg_sale_df = all_cities_df[['Estimated House Value ($)','Average Sale Price ($)']]\n",
    "estimated_avg_sale_df"
   ]
  },
  {
   "cell_type": "code",
   "execution_count": null,
   "id": "157b32f7-4337-4293-afaf-78a048d1d5f1",
   "metadata": {
    "ExecuteTime": {
     "end_time": "2023-12-13T23:55:26.922982Z",
     "start_time": "2023-12-13T23:55:26.762788Z"
    }
   },
   "outputs": [],
   "source": [
    "#%matplotlib inline\n",
    "graph = estimated_avg_sale_df.plot(kind = 'bar', title='Estimated House Value ($). vs Avg Sale Price ($)', color=[\"yellow\", \"green\"])\n",
    "graph.set_xlabel(\"City, Year\")\n",
    "graph.set_ylabel(\"Price in millions ($)\")\n",
    "plt.show()\n",
    "plt.tight_layout()"
   ]
  },
  {
   "cell_type": "code",
   "execution_count": null,
   "id": "8b4a5b83-a7d1-4a80-9594-757c0232a9aa",
   "metadata": {
    "ExecuteTime": {
     "end_time": "2023-12-13T23:55:27.003651Z",
     "start_time": "2023-12-13T23:55:26.877037Z"
    }
   },
   "outputs": [],
   "source": [
    "new_built_df = all_cities_reset_df[['Year', 'New Built']]\n",
    "\n",
    "new_builds = new_built_df.pivot(columns='Year', values='New Built')\n",
    "\n",
    "# Plot the bar graph\n",
    "new_builds.plot(kind='bar', color=['tab:orange', 'tab:purple'])\n",
    "plt.title('New Built for all Cities in 2016 and 2021')\n",
    "plt.ylabel('No. of New Builts')\n",
    "plt.xticks(rotation=45, ha='right')  \n",
    "plt.legend(title='Year')\n",
    "plt.tight_layout()\n",
    "plt.show()"
   ]
  },
  {
   "cell_type": "markdown",
   "id": "2d9c7e3b15d1489",
   "metadata": {},
   "source": [
    "# Unemployment Rate"
   ]
  },
  {
   "cell_type": "markdown",
   "id": "16ac570a1eda58ce",
   "metadata": {},
   "source": []
  },
  {
   "cell_type": "code",
   "execution_count": null,
   "id": "9ace281262b8fd26",
   "metadata": {
    "ExecuteTime": {
     "end_time": "2023-12-13T23:55:27.060199Z",
     "start_time": "2023-12-13T23:55:26.943238Z"
    }
   },
   "outputs": [],
   "source": [
    "import matplotlib.pyplot as plt\n",
    "\n",
    "# Reset index to get Year into its own column and change type to integer\n",
    "all_cities_reset_df = all_cities_df.reset_index(level='Year')\n",
    "all_cities_reset_df['Year'] = all_cities_reset_df['Year'].astype(int)\n",
    "\n",
    "# Filter the DataFrame to include only the relevant columns\n",
    "unemployment_df = all_cities_reset_df[['Year', 'Unemployment Rate (%)']]\n",
    "\n",
    "# Pivot the DataFrame to have 'Year' as the columns\n",
    "unemployment_pivot = unemployment_df.pivot(columns='Year', values='Unemployment Rate (%)')\n",
    "\n",
    "# Plot the bar graph\n",
    "unemployment_pivot.plot(kind='bar', stacked=False,color=['#3f899e', '#858437'])\n",
    "plt.title('Unemployment Rate Between Cities in 2016 and 2021')\n",
    "plt.ylabel('Unemployment Rate (%)')\n",
    "plt.xlabel('')\n",
    "plt.xticks(rotation=45, ha='right')  # Rotating x-axis labels for better readability\n",
    "plt.legend(title='Year', bbox_to_anchor=(1.25, 1))\n",
    "plt.show()"
   ]
  },
  {
   "cell_type": "markdown",
   "id": "601a0325c0259092",
   "metadata": {},
   "source": [
    "# Total number of leisure places per city"
   ]
  },
  {
   "cell_type": "code",
   "execution_count": null,
   "id": "f3d8b7e3a2ca77ad",
   "metadata": {
    "ExecuteTime": {
     "end_time": "2023-12-13T23:55:27.118385Z",
     "start_time": "2023-12-13T23:55:26.996453Z"
    }
   },
   "outputs": [],
   "source": [
    "import matplotlib.pyplot as plt\n",
    "\n",
    "# Reset index to get Year into its own column and change type to integer\n",
    "all_amenities_reset_df = all_amenities_df.reset_index(level='City')\n",
    "all_amenities_reset_df['City'] = all_amenities_reset_df['City']\n",
    "\n",
    "# Filter the DataFrame to include only the relevant columns\n",
    "leisure_df = all_amenities_reset_df[['City', '# of Leisure Spaces']]\n",
    "\n",
    "# Extracting data for the bar graph\n",
    "cities = leisure_df['City']\n",
    "leisure_spaces = leisure_df['# of Leisure Spaces']\n",
    "\n",
    "# Create Graph\n",
    "bars = plt.bar(cities, leisure_spaces, color='#3f899e')\n",
    "plt.ylabel('# of Leisure Spaces')\n",
    "plt.title('Number of Leisure Spaces in Each City')\n",
    "plt.xticks(rotation=45, ha='right')  # Rotating x-axis labels for better readability\n",
    "\n",
    "# Adding count numbers to the top of each bar\n",
    "for bar in bars:\n",
    "    yval = bar.get_height()\n",
    "    plt.text(bar.get_x() + bar.get_width()/2, yval, round(yval, 2), ha='center', va='bottom')\n",
    "\n",
    "plt.tight_layout()\n",
    "\n",
    "plt.show()"
   ]
  },
  {
   "cell_type": "code",
   "execution_count": null,
   "id": "b0f8e164",
   "metadata": {},
   "outputs": [],
   "source": [
    "years = ['2016', '2021']\n",
    "cities = ['Burlington', 'Oakville', 'Vaughan', 'Milton', 'Oshawa']\n",
    "bar_width=0.35\n",
    "\n",
    "y_value_1 = [\n",
    "    all_cities_df.loc[('Burlington', 2016), 'Population'],\n",
    "    all_cities_df.loc[('Oakville', '2016'), 'Population'],\n",
    "    all_cities_df.loc[('Vaughan', '2016'), 'Population'],\n",
    "    all_cities_df.loc[('Milton', '2016'), 'Population'],\n",
    "    all_cities_df.loc[('Oshawa', '2016'), 'Population']\n",
    "]\n",
    "y_value_2 = [\n",
    "    all_cities_df.loc[('Burlington', 2021), 'Population'],\n",
    "    all_cities_df.loc[('Oakville', ' 2021'), 'Population'],\n",
    "    all_cities_df.loc[('Vaughan', ' 2021'), 'Population'],\n",
    "    all_cities_df.loc[('Milton', '2021'), 'Population'],\n",
    "    all_cities_df.loc[('Oshawa', ' 2021'), 'Population']\n",
    "]\n",
    "\n",
    "x_axis = np.arange(len(cities))\n",
    "\n",
    "plt.bar(x_axis - bar_width/2, y_value_1, color=\"b\", width=bar_width, align=\"center\", label='2016')\n",
    "plt.bar(x_axis + bar_width/2, y_value_2, color=\"r\", width=bar_width, align=\"center\", label='2021', alpha=0.7)\n",
    "\n",
    "plt.xticks(x_axis, cities, rotation=\"vertical\")\n",
    "plt.xlabel('Cities')\n",
    "plt.ylabel('Population')\n",
    "plt.title('Population Comparison (2016 and 2021) for Selected Cities')\n",
    "plt.legend()\n",
    "plt.show()"
   ]
  },
  {
   "cell_type": "raw",
   "id": "8ee6244d",
   "metadata": {},
   "source": [
    "Analysis: all cities hav ehad a growth in population over teh course of 5 years with burlington having both the lowest total increase and lowest percent increas. Milton has the greatest total increase as well as the greatest percent increase."
   ]
  },
  {
   "cell_type": "code",
   "execution_count": null,
   "id": "815c5791",
   "metadata": {},
   "outputs": [],
   "source": [
    "years = ['2016', '2021']\n",
    "cities = ['Burlington', 'Oakville', 'Vaughan', 'Milton', 'Oshawa']\n",
    "\n",
    "B_income_2016 = all_cities_df.loc[('Burlington', 2016), 'Household Income ($)'], all_cities_df.loc[('Burlington', 2021), 'Household Income ($)']\n",
    "Oa_income_2016 = all_cities_df.loc[('Oakville', '2016'), 'Household Income ($)'], all_cities_df.loc[('Oakville', ' 2021'), 'Household Income ($)']\n",
    "V_income_2016 = all_cities_df.loc[('Vaughan', '2016'), 'Household Income ($)'], all_cities_df.loc[('Vaughan', ' 2021'), 'Household Income ($)']\n",
    "M_income_2016 = all_cities_df.loc[('Milton', '2016'), 'Household Income ($)'], all_cities_df.loc[('Milton', '2021'), 'Household Income ($)']\n",
    "Os_income_2016 = all_cities_df.loc[('Oshawa', '2016'), 'Household Income ($)'], all_cities_df.loc[('Oshawa', ' 2021'), 'Household Income ($)']\n",
    "\n",
    "B_rent_2016 = all_cities_df.loc[('Burlington', 2016), 'Average Rent ($)'], all_cities_df.loc[('Burlington', 2021), 'Average Rent ($)']\n",
    "Oa_rent_2016 = all_cities_df.loc[('Oakville', '2016'), 'Average Rent ($)'], all_cities_df.loc[('Oakville', ' 2021'), 'Average Rent ($)'] \n",
    "V_rent_2016 = all_cities_df.loc[('Vaughan', '2016'), 'Average Rent ($)'], all_cities_df.loc[('Vaughan', ' 2021'), 'Average Rent ($)'] \n",
    "M_rent_2016 = all_cities_df.loc[('Milton', '2016'), 'Average Rent ($)'], all_cities_df.loc[('Milton', '2021'), 'Average Rent ($)'] \n",
    "Os_rent_2016 = all_cities_df.loc[('Oshawa', '2016'), 'Average Rent ($)'], all_cities_df.loc[('Oshawa', ' 2021'), 'Average Rent ($)'] \n",
    "x_axis = years\n",
    "\n",
    "plt.plot(x_axis, B_income_2016, label='Burlington Income', marker='o')\n",
    "plt.plot(x_axis, Oa_income_2016, label='Oakville Income ', marker='o')\n",
    "plt.plot(x_axis, V_income_2016, label='Vaughan Income ', marker='o')\n",
    "plt.plot(x_axis, M_income_2016, label='Milton Income ', marker='o')\n",
    "plt.plot(x_axis, Os_income_2016, label='Oshawa Income ', marker='o')\n",
    "plt.plot(x_axis, B_rent_2016, label='Burlington Rent ', marker='o')\n",
    "plt.plot(x_axis, Oa_rent_2016, label='Oakville Rent ', marker='o')\n",
    "plt.plot(x_axis, V_rent_2016, label='Vaughan Rent ', marker='o')\n",
    "plt.plot(x_axis, M_rent_2016, label='Milton Rent ', marker='o')\n",
    "plt.plot(x_axis, Os_rent_2016, label='Oshawa Rent ', marker='o')\n",
    "\n",
    "plt.xlabel('Cities')\n",
    "plt.ylabel('Amount in $')\n",
    "plt.title('Household Income and Average Rent Comparison (2016 and 2021) for Selected Cities')\n",
    "\n",
    "plt.legend()\n",
    "\n",
    "plt.show()"
   ]
  },
  {
   "cell_type": "code",
   "execution_count": null,
   "id": "c7f09732",
   "metadata": {},
   "outputs": [],
   "source": [
    "x_axis = years\n",
    "\n",
    "fig, (ax1, ax2) = plt.subplots(2, 1, sharex=True, gridspec_kw={'height_ratios': [1, 1]})\n",
    "\n",
    "ax1.plot(x_axis, B_income_2016, label='Burlington Income', marker='o')\n",
    "ax1.plot(x_axis, Oa_income_2016, label='Oakville Income ', marker='o')\n",
    "ax1.plot(x_axis, V_income_2016, label='Vaughan Income ', marker='o')\n",
    "ax1.plot(x_axis, M_income_2016, label='Milton Income ', marker='o')\n",
    "ax1.plot(x_axis, Os_income_2016, label='Oshawa Income ', marker='o')\n",
    "\n",
    "ax1.set_ylabel('Income in $')\n",
    "ax1.set_ylim(70000, 150000)\n",
    "ax2.set_ylim(1000, 3500)\n",
    "ax1.spines['bottom'].set_visible(False)\n",
    "ax1.xaxis.tick_top()\n",
    "ax1.xaxis.set_label_position('top')\n",
    "\n",
    "ax2.plot(x_axis, B_rent_2016, label='Burlington Rent ', marker='o')\n",
    "ax2.plot(x_axis, Oa_rent_2016, label='Oakville Rent ', marker='o')\n",
    "ax2.plot(x_axis, V_rent_2016, label='Vaughan Rent ', marker='o')\n",
    "ax2.plot(x_axis, M_rent_2016, label='Milton Rent ', marker='o')\n",
    "ax2.plot(x_axis, Os_rent_2016, label='Oshawa Rent ', marker='o')\n",
    "\n",
    "ax2.set_xlabel('Years')\n",
    "ax2.set_ylabel('Rent in $')\n",
    "ax1.set_title('Household Income and Average Rent Comparison (2016 and 2021) for Selected Cities')\n",
    "\n",
    "ax1.legend(loc='best')\n",
    "ax2.legend(loc='best')\n",
    "\n",
    "plt.show()"
   ]
  },
  {
   "cell_type": "raw",
   "id": "b2cd192b",
   "metadata": {},
   "source": [
    "Analysis For all cities the total household income increased with Vaughan having the greatest increase in household income With regards to Rent only one citys rent decreased and that would be for milton. Both Oshawa and Vaughan had major increases to their average rent with Oshawa having the greatest percent increase. even after these increases oakville remains having the greatest total rent for both analyzed years. Milton has the greatest Houshold income as of 2021 beating the previous holder of burlington."
   ]
  },
  {
   "cell_type": "code",
   "execution_count": null,
   "id": "0d6c2834",
   "metadata": {},
   "outputs": [],
   "source": [
    "import matplotlib.pyplot as plt\n",
    "import scipy.stats as st\n",
    "import numpy as np"
   ]
  },
  {
   "cell_type": "markdown",
   "id": "5b12a95f",
   "metadata": {},
   "source": [
    "**<font size =5> School Graph <font>***"
   ]
  },
  {
   "cell_type": "code",
   "execution_count": null,
   "id": "45034d3d",
   "metadata": {},
   "outputs": [],
   "source": [
    "all_amenities_df[[\"# of Public Schools\",\"# of Catholic Schools\",\"# of Private Schools\"]].plot(kind = 'bar',\n",
    "                                                                        title = 'Number of schools by type per cities',\n",
    "                                                                        ylabel = 'Total Number',\n",
    "                                                                         rot = 45)"
   ]
  },
  {
   "cell_type": "markdown",
   "id": "ca488547",
   "metadata": {},
   "source": [
    "**<font size = 5> Owned vs Rented Houses <font>**"
   ]
  },
  {
   "cell_type": "code",
   "execution_count": null,
   "id": "e590a8e8",
   "metadata": {},
   "outputs": [],
   "source": [
    "#Extract a df from the all_cities_df\n",
    "rented_vs_owned = all_cities_df[['Owned Houses',\"Rented Houses\"]]\n",
    "rented_vs_owned"
   ]
  },
  {
   "cell_type": "code",
   "execution_count": null,
   "id": "f17d8acf",
   "metadata": {},
   "outputs": [],
   "source": [
    "#Version 1\n",
    "%matplotlib inline\n",
    "rented_vs_owned.plot(kind = 'bar', title = \"Owned Houses vs Rented Houses in 2016 and 2021 per city\", rot =45,\n",
    "                    ylabel = \"Number of Houses\")"
   ]
  },
  {
   "cell_type": "code",
   "execution_count": null,
   "id": "ff6daf41",
   "metadata": {},
   "outputs": [],
   "source": [
    "rented_vs_owned = all_cities_df[[\"Population\",\"Owned Houses\",\"Rented Houses\"]]\n"
   ]
  },
  {
   "cell_type": "code",
   "execution_count": null,
   "id": "bf1a2809",
   "metadata": {},
   "outputs": [],
   "source": [
    "#Determining my axis\n",
    "x_axis = rented_vs_owned[\"Population\"]\n",
    "y_axis = rented_vs_owned[\"Owned Houses\"]\n",
    "y_axis2 = rented_vs_owned[\"Rented Houses\"]\n",
    "\n",
    "\n",
    "#Plotting the chart\n",
    "fig, ax = plt.subplots()\n",
    "ax.scatter(x_axis, y_axis, color = 'brown',label='Owned Houses')\n",
    "ax.scatter(x_axis, y_axis2, color = 'orange',label='Rented Houses')\n",
    "plt.xlabel (\"Population\")\n",
    "plt.ylabel (\"Number of Houses\")\n",
    "plt.title('Owned vs Rented Houses increase by population')\n",
    "plt.legend()\n",
    "\n",
    "#Adding regression lines\n",
    "output_owned_houses = st.linregress(x_axis, y_axis)\n",
    "output_rented_houses = st.linregress(x_axis, y_axis2)\n",
    "slope1 = output_owned_houses[0]\n",
    "slope2 = output_rented_houses[0]\n",
    "intercept1 = output_owned_houses[1]\n",
    "intercept2 = output_rented_houses[1]\n",
    "regressline1 = slope1*x_axis+intercept1\n",
    "regressline2 = slope2*x_axis+intercept2\n",
    "line_eq1 = f'y = {round(slope1,2)}x+{round(intercept1,2)}'\n",
    "line_eq2 = f'y = {round(slope2,2)}x+{round(intercept2,2)}'\n",
    "corr1 = np.corrcoef(x_axis,y_axis)\n",
    "corr2 = np.corrcoef(x_axis,y_axis2)\n",
    "#Displaying the regression lines\n",
    "plt.plot(x_axis,regressline1, color = 'pink')\n",
    "plt.plot(x_axis,regressline2, color = 'yellow')\n",
    "plt.annotate(line_eq1,(155000,70000), color = 'brown')\n",
    "plt.annotate(line_eq2,(250000,20000),color = 'orange')\n",
    "fig.set_figheight(5.5)\n",
    "fig.set_figwidth(7)\n",
    "plt.plot()\n",
    "\n",
    "#Correlation coefficients \n",
    "corr1 = np.corrcoef(x_axis,y_axis)\n",
    "corr2 = np.corrcoef(x_axis,y_axis2)\n",
    "print(f'The correlation between the increase of population and owned houses is {corr1[1][0]}')\n",
    "print(f'The correlation between the increase of population and rented houses is {corr2[1][0]}')\n"
   ]
  },
  {
   "cell_type": "code",
   "execution_count": null,
   "id": "547a71ae",
   "metadata": {},
   "outputs": [],
   "source": [
    "#Pie chart\n",
    "rented_vs_owned = rented_vs_owned.reset_index()\n",
    "rented_vs_owned['Year'] = rented_vs_owned[\"Year\"].astype(int)\n",
    "df_2016 = rented_vs_owned.loc[rented_vs_owned['Year']==2016]"
   ]
  },
  {
   "cell_type": "code",
   "execution_count": null,
   "id": "dea33071",
   "metadata": {},
   "outputs": [],
   "source": [
    "df_2021 = rented_vs_owned.loc[rented_vs_owned['Year']==2021]"
   ]
  },
  {
   "cell_type": "code",
   "execution_count": null,
   "id": "32ed75af",
   "metadata": {},
   "outputs": [],
   "source": [
    "fig, ax1 = plt.subplots(1, 2)\n",
    "\n",
    "values_o_2016 = df_2016['Owned Houses']\n",
    "values_r_2016 = df_2016['Rented Houses']\n",
    "values_o_2021 = df_2021['Owned Houses']\n",
    "values_r_2021 = df_2021['Rented Houses']\n",
    "names = df_2016[\"City\"]\n",
    "colors =['yellow',\"lightblue\",\"brown\",\"pink\",\"green\"]\n",
    "explosion =[0.05,0.05,0.05,0.05,0.05]\n",
    "\n",
    "\n",
    "# ...\n",
    "ax1[0].pie(values_o_2016,labels = names, colors = colors, autopct = '%1.1f%%', explode = explosion)\n",
    "ax1[0].set_title('Owned Houses')\n",
    "#...\n",
    "ax1[1].pie(values_r_2016,labels = names, colors = colors, autopct = '%1.1f%%',explode = explosion)\n",
    "ax1[1].set_title('Rented Houses')\n",
    "fig.supylabel('2016')\n",
    "fig.tight_layout()\n",
    "\n",
    "\n",
    "\n",
    "# ...\n",
    "fig, ax2 = plt.subplots(1, 2)\n",
    "# ...\n",
    "ax2[0].pie(values_o_2021,labels = names, colors = colors, autopct = '%1.1f%%',explode = explosion)\n",
    "\n",
    "# ...\n",
    "ax2[1].pie(values_r_2021,labels = names, colors = colors, autopct = '%1.1f%%',explode = explosion)\n",
    "fig.supylabel('2021')\n",
    "fig.tight_layout()\n",
    "\n",
    "\n",
    "\n",
    "plt.show()"
   ]
  },
  {
   "cell_type": "code",
   "execution_count": null,
   "id": "2a75fd7b",
   "metadata": {
    "scrolled": false
   },
   "outputs": [],
   "source": [
    "map_cities = ['Burlington', 'Oakville', 'Oshawa', 'Vaughan', 'Milton']\n",
    "map_cities_dic = {\n",
    "    'City': map_cities\n",
    "}\n",
    "map_cities_df = pd.DataFrame(map_cities_dic)\n",
    "\n",
    "map_cities_df['Lat'] = \"\"\n",
    "map_cities_df['Lon'] = \"\"\n",
    "\n",
    "params = {\n",
    "    \"apiKey\":apify_key,\n",
    "    \"format\":\"json\"\n",
    "}\n",
    "base_url = \"https://api.geoapify.com/v1/geocode/search\"\n",
    "for index, row in map_cities_df.iterrows():\n",
    "\n",
    "\n",
    "    city = f'{row[\"City\"]} , Ontario, Canada'\n",
    "\n",
    "    params['text'] = city\n",
    "\n",
    "    response = requests.get(base_url, params = params).json()\n",
    "\n",
    "    lat = response['results'][0]['lat']\n",
    "    lon = response['results'][0]['lon']\n",
    "    \n",
    "    map_cities_df.loc[index, \"Lat\"] = lat\n",
    "    map_cities_df.loc[index, \"Lon\"] = lon\n",
    "map_cities_df.set_index('City', inplace=True)  \n",
    "map_cities_df\n",
    "\n",
    "merged_map_df = map_cities_df.merge(all_cities_df['Population'], left_index=True, right_index=True, how='left')\n",
    "merged_map_df = merged_map_df.reset_index()\n",
    "merged_map_df\n",
    "\n",
    "merged_map_df['City'] = merged_map_df['City'].astype('category')\n",
    "min_pop = merged_map_df['Population'].min()\n",
    "max_pop = merged_map_df['Population'].max()\n",
    "\n",
    "merged_map_df['Scaled_Population'] = (\n",
    "    ((merged_map_df['Population'] - min_pop) / (max_pop - min_pop)) * (900 - 300) + 300\n",
    ")\n",
    "\n",
    "final_map = merged_map_df.hvplot.points(\n",
    "    'Lon', 'Lat', geo=True, tiles=\"OSM\",\n",
    "    size='Scaled_Population',\n",
    "    color='City',\n",
    "    alpha=0.7,\n",
    "    hover_cols=['City', 'Population'],\n",
    "    legend=False)\n",
    "final_map\n"
   ]
  }
 ],
 "metadata": {
  "kernelspec": {
   "display_name": "Python 3 (ipykernel)",
   "language": "python",
   "name": "python3"
  },
  "language_info": {
   "codemirror_mode": {
    "name": "ipython",
    "version": 3
   },
   "file_extension": ".py",
   "mimetype": "text/x-python",
   "name": "python",
   "nbconvert_exporter": "python",
   "pygments_lexer": "ipython3",
   "version": "3.11.5"
  }
 },
 "nbformat": 4,
 "nbformat_minor": 5
}
