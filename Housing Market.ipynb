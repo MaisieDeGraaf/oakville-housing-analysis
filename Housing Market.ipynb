{
 "cells": [
  {
   "cell_type": "code",
   "execution_count": 5,
   "id": "d28ec504",
   "metadata": {},
   "outputs": [],
   "source": [
    "#Dependencies\n",
    "import pandas as pd\n",
    "from pathlib import Path\n",
    "import csv\n",
    "import numpy as np"
   ]
  },
  {
   "cell_type": "code",
   "execution_count": 2,
   "id": "f80c6fc6",
   "metadata": {},
   "outputs": [
    {
     "data": {
      "text/html": [
       "<div>\n",
       "<style scoped>\n",
       "    .dataframe tbody tr th:only-of-type {\n",
       "        vertical-align: middle;\n",
       "    }\n",
       "\n",
       "    .dataframe tbody tr th {\n",
       "        vertical-align: top;\n",
       "    }\n",
       "\n",
       "    .dataframe thead th {\n",
       "        text-align: right;\n",
       "    }\n",
       "</style>\n",
       "<table border=\"1\" class=\"dataframe\">\n",
       "  <thead>\n",
       "    <tr style=\"text-align: right;\">\n",
       "      <th></th>\n",
       "      <th>Unnamed: 0</th>\n",
       "      <th>0 - 14</th>\n",
       "      <th>15 - 24</th>\n",
       "      <th>25 - 34</th>\n",
       "      <th>35 - 44</th>\n",
       "      <th>45 - 54</th>\n",
       "      <th>55 - 64</th>\n",
       "      <th>Total 65+</th>\n",
       "      <th>Total</th>\n",
       "    </tr>\n",
       "  </thead>\n",
       "  <tbody>\n",
       "    <tr>\n",
       "      <th>0</th>\n",
       "      <td>Barrie</td>\n",
       "      <td>35,23</td>\n",
       "      <td>26,355</td>\n",
       "      <td>24,775</td>\n",
       "      <td>26,09</td>\n",
       "      <td>30,845</td>\n",
       "      <td>24,925</td>\n",
       "      <td>26,225</td>\n",
       "      <td>194,45</td>\n",
       "    </tr>\n",
       "    <tr>\n",
       "      <th>1</th>\n",
       "      <td>Bracebridge T</td>\n",
       "      <td>2,185</td>\n",
       "      <td>1,67</td>\n",
       "      <td>1,585</td>\n",
       "      <td>1,53</td>\n",
       "      <td>2,265</td>\n",
       "      <td>2,65</td>\n",
       "      <td>3,69</td>\n",
       "      <td>15,565</td>\n",
       "    </tr>\n",
       "    <tr>\n",
       "      <th>2</th>\n",
       "      <td>Brantford</td>\n",
       "      <td>23,57</td>\n",
       "      <td>16,08</td>\n",
       "      <td>15,945</td>\n",
       "      <td>16,455</td>\n",
       "      <td>18,855</td>\n",
       "      <td>18,895</td>\n",
       "      <td>21,84</td>\n",
       "      <td>131,64</td>\n",
       "    </tr>\n",
       "    <tr>\n",
       "      <th>3</th>\n",
       "      <td>Brighton MU</td>\n",
       "      <td>1,48</td>\n",
       "      <td>1,03</td>\n",
       "      <td>900</td>\n",
       "      <td>1,015</td>\n",
       "      <td>1,49</td>\n",
       "      <td>1,955</td>\n",
       "      <td>3,285</td>\n",
       "      <td>11,16</td>\n",
       "    </tr>\n",
       "    <tr>\n",
       "      <th>4</th>\n",
       "      <td>Brock TP</td>\n",
       "      <td>1,875</td>\n",
       "      <td>1,275</td>\n",
       "      <td>1,235</td>\n",
       "      <td>1,22</td>\n",
       "      <td>1,745</td>\n",
       "      <td>1,815</td>\n",
       "      <td>2,2</td>\n",
       "      <td>11,36</td>\n",
       "    </tr>\n",
       "  </tbody>\n",
       "</table>\n",
       "</div>"
      ],
      "text/plain": [
       "      Unnamed: 0 0 - 14 15 - 24 25 - 34 35 - 44 45 - 54 55 - 64 Total 65+  \\\n",
       "0         Barrie  35,23  26,355  24,775   26,09  30,845  24,925    26,225   \n",
       "1  Bracebridge T  2,185    1,67   1,585    1,53   2,265    2,65      3,69   \n",
       "2      Brantford  23,57   16,08  15,945  16,455  18,855  18,895     21,84   \n",
       "3    Brighton MU   1,48    1,03     900   1,015    1,49   1,955     3,285   \n",
       "4       Brock TP  1,875   1,275   1,235    1,22   1,745   1,815       2,2   \n",
       "\n",
       "    Total  \n",
       "0  194,45  \n",
       "1  15,565  \n",
       "2  131,64  \n",
       "3   11,16  \n",
       "4   11,36  "
      ]
     },
     "execution_count": 2,
     "metadata": {},
     "output_type": "execute_result"
    }
   ],
   "source": [
    "#Listing all my paths\n",
    "data = Path(\"Resources1/2016 Population.csv\")\n",
    "\n",
    "#Read the csv file\n",
    "df = pd.read_csv(data, sep=';')\n",
    "df.head()"
   ]
  },
  {
   "cell_type": "code",
   "execution_count": 3,
   "id": "c48b81b4",
   "metadata": {},
   "outputs": [
    {
     "data": {
      "text/plain": [
       "Unnamed: 0\n",
       "Oshawa    375,605\n",
       "Name: Total, dtype: object"
      ]
     },
     "execution_count": 3,
     "metadata": {},
     "output_type": "execute_result"
    }
   ],
   "source": [
    "df = df.set_index('Unnamed: 0')\n",
    "oshawa_df = df[\"Total\"].loc[df.index=='Oshawa']\n",
    "oshawa_df"
   ]
  },
  {
   "cell_type": "markdown",
   "id": "cd3b98be",
   "metadata": {},
   "source": [
    "**Population**"
   ]
  },
  {
   "cell_type": "code",
   "execution_count": 4,
   "id": "25658703",
   "metadata": {},
   "outputs": [
    {
     "name": "stdout",
     "output_type": "stream",
     "text": [
      "175383 and 159458\n"
     ]
    }
   ],
   "source": [
    "#Listing all my paths\n",
    "data = Path(\"Resources1/2016 - 2021 Population - Oshawa.csv\")\n",
    "\n",
    "#Read the csv file\n",
    "df = pd.read_csv(data)\n",
    "oshawa_pop_2021 = df.index[3][3]\n",
    "oshawa_pop_2016 = df.index[4][3]\n",
    "print(oshawa_pop_2021+\" \"+\"and\"+\" \"+oshawa_pop_2016)"
   ]
  },
  {
   "cell_type": "code",
   "execution_count": 9,
   "id": "2fdb7d27",
   "metadata": {},
   "outputs": [
    {
     "data": {
      "text/html": [
       "<div>\n",
       "<style scoped>\n",
       "    .dataframe tbody tr th:only-of-type {\n",
       "        vertical-align: middle;\n",
       "    }\n",
       "\n",
       "    .dataframe tbody tr th {\n",
       "        vertical-align: top;\n",
       "    }\n",
       "\n",
       "    .dataframe thead th {\n",
       "        text-align: right;\n",
       "    }\n",
       "</style>\n",
       "<table border=\"1\" class=\"dataframe\">\n",
       "  <thead>\n",
       "    <tr style=\"text-align: right;\">\n",
       "      <th></th>\n",
       "      <th></th>\n",
       "      <th>Population</th>\n",
       "    </tr>\n",
       "    <tr>\n",
       "      <th>City</th>\n",
       "      <th>Year</th>\n",
       "      <th></th>\n",
       "    </tr>\n",
       "  </thead>\n",
       "  <tbody>\n",
       "    <tr>\n",
       "      <th rowspan=\"2\" valign=\"top\">Oshawa</th>\n",
       "      <th>2016</th>\n",
       "      <td>159458</td>\n",
       "    </tr>\n",
       "    <tr>\n",
       "      <th>2021</th>\n",
       "      <td>175383</td>\n",
       "    </tr>\n",
       "  </tbody>\n",
       "</table>\n",
       "</div>"
      ],
      "text/plain": [
       "             Population\n",
       "City   Year            \n",
       "Oshawa 2016      159458\n",
       "        2021     175383"
      ]
     },
     "execution_count": 9,
     "metadata": {},
     "output_type": "execute_result"
    }
   ],
   "source": [
    "\n",
    "#Create a MultiIndex using an Index and a column:\n",
    "\n",
    "Oshawa_df = pd.DataFrame({'City': ['Oshawa', 'Oshawa' ],\n",
    "                          'Year': ['2016',' 2021'],\n",
    "                          'Population': [oshawa_pop_2016, oshawa_pop_2021,],\n",
    "                         })\n",
    "Oshawa_df = Oshawa_df.set_index(['City', 'Year'])\n",
    "Oshawa_df"
   ]
  },
  {
   "cell_type": "code",
   "execution_count": null,
   "id": "623081a7",
   "metadata": {},
   "outputs": [],
   "source": []
  }
 ],
 "metadata": {
  "kernelspec": {
   "display_name": "Python 3 (ipykernel)",
   "language": "python",
   "name": "python3"
  },
  "language_info": {
   "codemirror_mode": {
    "name": "ipython",
    "version": 3
   },
   "file_extension": ".py",
   "mimetype": "text/x-python",
   "name": "python",
   "nbconvert_exporter": "python",
   "pygments_lexer": "ipython3",
   "version": "3.11.5"
  }
 },
 "nbformat": 4,
 "nbformat_minor": 5
}
