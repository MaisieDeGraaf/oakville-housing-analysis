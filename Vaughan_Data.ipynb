{
 "cells": [
  {
   "cell_type": "code",
   "execution_count": 43,
   "outputs": [],
   "source": [
    "import pandas as pd\n",
    "import numpy as np\n",
    "from pathlib import Path\n",
    "import functools as ft"
   ],
   "metadata": {
    "ExecuteTime": {
     "end_time": "2023-12-12T01:11:32.106003Z",
     "start_time": "2023-12-12T01:11:32.102331Z"
    }
   },
   "id": "428471a1"
  },
  {
   "cell_type": "code",
   "execution_count": 44,
   "outputs": [],
   "source": [
    "# File to Load (Remember to Change These)\n",
    "dataset_2016 = Path('Raw Data/Vaughan StatsCan 2016.csv')\n",
    "dataset_2021 = Path('Raw Data/Vaughan StatsCan 2021.csv')\n",
    "sale_med = Path('Raw Data/Vaughan Med Sale.csv')\n",
    "rent_med = Path('Raw Data/Vaughan Med Rental.csv')\n",
    "rent_avg = Path('Raw Data/Vaughan Avg Rental Price.csv')\n",
    "sale_avg = Path('Raw Data/Vaughan Avg Sale Price.csv')\n",
    "private_schools = Path('Raw Data/Private School Boards.csv')\n",
    "public_schools = Path('Raw Data/Public School Boards.csv')"
   ],
   "metadata": {
    "collapsed": false,
    "ExecuteTime": {
     "end_time": "2023-12-12T01:11:32.108740Z",
     "start_time": "2023-12-12T01:11:32.106311Z"
    }
   },
   "id": "33f434224d9ce30b"
  },
  {
   "cell_type": "code",
   "execution_count": 45,
   "outputs": [
    {
     "data": {
      "text/plain": "     ï»¿Board Number           Board Name               Board Type  \\\n4832          B66095      York Region DSB   Pub Dist Sch Brd (E/F)   \n2561          B66125             Peel DSB   Pub Dist Sch Brd (E/F)   \n3060          B67091  Simcoe Muskoka CDSB  Cath Dist Sch Brd (E/F)   \n4546          B67024   Windsor-Essex CDSB  Cath Dist Sch Brd (E/F)   \n2208          B67156         Niagara CDSB  Cath Dist Sch Brd (E/F)   \n\n     School Number                             School Name School Type  \\\n4832        450073               Poplar Bank Public School      Public   \n2561        254568        Derry West Village Public School      Public   \n3060        790044  St Francis of Assisi Elementary School    Catholic   \n4546        700088                        Catholic Central    Catholic   \n2208        844322     St Peter Catholic Elementary School    Catholic   \n\n     School Special Condition Code School Level School Language Grade Range  \\\n4832                Not applicable   Elementary         English        JK-8   \n2561                Not applicable   Elementary         English        JK-6   \n3060                Not applicable   Elementary         English        JK-8   \n4546                Not applicable    Secondary         English        9-12   \n2208                Not applicable   Elementary         English        JK-8   \n\n      ... Change in Grade 6 Writing Achievement Over Three Years  \\\n4832  ...                                                NaN       \n2561  ...                                                NaN       \n3060  ...                                                NaN       \n4546  ...                                                NaN       \n2208  ...                                                NaN       \n\n     Percentage of Grade 6 Students Achieving the Provincial Standard in Mathematics  \\\n4832                                                64%                                \n2561                                                NaN                                \n3060                                                40%                                \n4546                                                NaN                                \n2208                                                42%                                \n\n     Change in Grade 6 Mathematics Achievement Over Three Years  \\\n4832                                                NaN           \n2561                                                NaN           \n3060                                                NaN           \n4546                                                NaN           \n2208                                                NaN           \n\n     Percentage of Grade 9 Students Achieving the Provincial Standard in Mathematics  \\\n4832                                                NaN                                \n2561                                                NaN                                \n3060                                                NaN                                \n4546                                                38%                                \n2208                                                NaN                                \n\n     Change in Grade 9 Mathematics Achievement Over Three Years  \\\n4832                                                NaN           \n2561                                                NaN           \n3060                                                NaN           \n4546                                                NaN           \n2208                                                NaN           \n\n     Percentage of Students That Passed the Grade 10 OSSLT on Their First Attempt  \\\n4832                                                NaN                             \n2561                                                NaN                             \n3060                                                NaN                             \n4546                                                62%                             \n2208                                                NaN                             \n\n     Change in Grade 10 OSSLT Literacy Achievement Over Three Years  \\\n4832                                                NaN               \n2561                                                NaN               \n3060                                                NaN               \n4546                                                NaN               \n2208                                                NaN               \n\n     Percentage of School-Aged Children Who Live in Low-Income Households  \\\n4832                                                 12                     \n2561                                                 20                     \n3060                                                 15                     \n4546                                                 41                     \n2208                                                 20                     \n\n     Percentage of Students Whose Parents Have No Degree, Diploma or Certificate  \\\n4832                                                  2                            \n2561                                                  5                            \n3060                                                  3                            \n4546                                                 19                            \n2208                                                  0                            \n\n     Extract Date  \n4832     3-Nov-23  \n2561     3-Nov-23  \n3060     3-Nov-23  \n4546     3-Nov-23  \n2208     3-Nov-23  \n\n[5 rows x 49 columns]",
      "text/html": "<div>\n<style scoped>\n    .dataframe tbody tr th:only-of-type {\n        vertical-align: middle;\n    }\n\n    .dataframe tbody tr th {\n        vertical-align: top;\n    }\n\n    .dataframe thead th {\n        text-align: right;\n    }\n</style>\n<table border=\"1\" class=\"dataframe\">\n  <thead>\n    <tr style=\"text-align: right;\">\n      <th></th>\n      <th>ï»¿Board Number</th>\n      <th>Board Name</th>\n      <th>Board Type</th>\n      <th>School Number</th>\n      <th>School Name</th>\n      <th>School Type</th>\n      <th>School Special Condition Code</th>\n      <th>School Level</th>\n      <th>School Language</th>\n      <th>Grade Range</th>\n      <th>...</th>\n      <th>Change in Grade 6 Writing Achievement Over Three Years</th>\n      <th>Percentage of Grade 6 Students Achieving the Provincial Standard in Mathematics</th>\n      <th>Change in Grade 6 Mathematics Achievement Over Three Years</th>\n      <th>Percentage of Grade 9 Students Achieving the Provincial Standard in Mathematics</th>\n      <th>Change in Grade 9 Mathematics Achievement Over Three Years</th>\n      <th>Percentage of Students That Passed the Grade 10 OSSLT on Their First Attempt</th>\n      <th>Change in Grade 10 OSSLT Literacy Achievement Over Three Years</th>\n      <th>Percentage of School-Aged Children Who Live in Low-Income Households</th>\n      <th>Percentage of Students Whose Parents Have No Degree, Diploma or Certificate</th>\n      <th>Extract Date</th>\n    </tr>\n  </thead>\n  <tbody>\n    <tr>\n      <th>4832</th>\n      <td>B66095</td>\n      <td>York Region DSB</td>\n      <td>Pub Dist Sch Brd (E/F)</td>\n      <td>450073</td>\n      <td>Poplar Bank Public School</td>\n      <td>Public</td>\n      <td>Not applicable</td>\n      <td>Elementary</td>\n      <td>English</td>\n      <td>JK-8</td>\n      <td>...</td>\n      <td>NaN</td>\n      <td>64%</td>\n      <td>NaN</td>\n      <td>NaN</td>\n      <td>NaN</td>\n      <td>NaN</td>\n      <td>NaN</td>\n      <td>12</td>\n      <td>2</td>\n      <td>3-Nov-23</td>\n    </tr>\n    <tr>\n      <th>2561</th>\n      <td>B66125</td>\n      <td>Peel DSB</td>\n      <td>Pub Dist Sch Brd (E/F)</td>\n      <td>254568</td>\n      <td>Derry West Village Public School</td>\n      <td>Public</td>\n      <td>Not applicable</td>\n      <td>Elementary</td>\n      <td>English</td>\n      <td>JK-6</td>\n      <td>...</td>\n      <td>NaN</td>\n      <td>NaN</td>\n      <td>NaN</td>\n      <td>NaN</td>\n      <td>NaN</td>\n      <td>NaN</td>\n      <td>NaN</td>\n      <td>20</td>\n      <td>5</td>\n      <td>3-Nov-23</td>\n    </tr>\n    <tr>\n      <th>3060</th>\n      <td>B67091</td>\n      <td>Simcoe Muskoka CDSB</td>\n      <td>Cath Dist Sch Brd (E/F)</td>\n      <td>790044</td>\n      <td>St Francis of Assisi Elementary School</td>\n      <td>Catholic</td>\n      <td>Not applicable</td>\n      <td>Elementary</td>\n      <td>English</td>\n      <td>JK-8</td>\n      <td>...</td>\n      <td>NaN</td>\n      <td>40%</td>\n      <td>NaN</td>\n      <td>NaN</td>\n      <td>NaN</td>\n      <td>NaN</td>\n      <td>NaN</td>\n      <td>15</td>\n      <td>3</td>\n      <td>3-Nov-23</td>\n    </tr>\n    <tr>\n      <th>4546</th>\n      <td>B67024</td>\n      <td>Windsor-Essex CDSB</td>\n      <td>Cath Dist Sch Brd (E/F)</td>\n      <td>700088</td>\n      <td>Catholic Central</td>\n      <td>Catholic</td>\n      <td>Not applicable</td>\n      <td>Secondary</td>\n      <td>English</td>\n      <td>9-12</td>\n      <td>...</td>\n      <td>NaN</td>\n      <td>NaN</td>\n      <td>NaN</td>\n      <td>38%</td>\n      <td>NaN</td>\n      <td>62%</td>\n      <td>NaN</td>\n      <td>41</td>\n      <td>19</td>\n      <td>3-Nov-23</td>\n    </tr>\n    <tr>\n      <th>2208</th>\n      <td>B67156</td>\n      <td>Niagara CDSB</td>\n      <td>Cath Dist Sch Brd (E/F)</td>\n      <td>844322</td>\n      <td>St Peter Catholic Elementary School</td>\n      <td>Catholic</td>\n      <td>Not applicable</td>\n      <td>Elementary</td>\n      <td>English</td>\n      <td>JK-8</td>\n      <td>...</td>\n      <td>NaN</td>\n      <td>42%</td>\n      <td>NaN</td>\n      <td>NaN</td>\n      <td>NaN</td>\n      <td>NaN</td>\n      <td>NaN</td>\n      <td>20</td>\n      <td>0</td>\n      <td>3-Nov-23</td>\n    </tr>\n  </tbody>\n</table>\n<p>5 rows × 49 columns</p>\n</div>"
     },
     "execution_count": 45,
     "metadata": {},
     "output_type": "execute_result"
    }
   ],
   "source": [
    "# Dataframes\n",
    "df_2016 = pd.read_csv(dataset_2016, encoding = \"ISO-8859-1\", on_bad_lines = 'skip', low_memory = True, engine = 'python')\n",
    "df_2021 = pd.read_csv(dataset_2021, encoding = \"ISO-8859-1\", on_bad_lines = 'skip', low_memory = True, engine = 'python')\n",
    "df_rent_median = pd.read_csv(rent_med, encoding = \"ISO-8859-1\", on_bad_lines = 'skip', low_memory = True, engine = 'python')\n",
    "df_rent_average = pd.read_csv(rent_avg, encoding = \"ISO-8859-1\", on_bad_lines = 'skip', low_memory = True, engine = 'python')\n",
    "df_sale_average = pd.read_csv(sale_avg, encoding = \"ISO-8859-1\", on_bad_lines = 'skip', low_memory = True, engine = 'python')\n",
    "df_sale_median = pd.read_csv(sale_med, encoding = \"ISO-8859-1\", on_bad_lines = 'skip', low_memory = True, engine = 'python')\n",
    "df_private_schools = pd.read_csv(private_schools, encoding = \"ISO-8859-1\", on_bad_lines = 'skip', low_memory = True, engine = 'python')\n",
    "df_public_schools = pd.read_csv(public_schools, encoding = \"ISO-8859-1\", on_bad_lines = 'skip', low_memory = True, engine = 'python')\n",
    "\n",
    "df_public_schools.sample(5)"
   ],
   "metadata": {
    "scrolled": true,
    "ExecuteTime": {
     "end_time": "2023-12-12T01:11:32.180612Z",
     "start_time": "2023-12-12T01:11:32.110820Z"
    }
   },
   "id": "f49c6eb5"
  },
  {
   "cell_type": "code",
   "execution_count": 46,
   "outputs": [
    {
     "data": {
      "text/plain": "    Primary Year Close Price, Median_x Close Price, Median_y  \\\n0           2013              $600,000                $2,300   \n1           2014              $651,000                $2,300   \n2           2015              $720,000                $2,300   \n3           2016              $852,000                $2,350   \n4           2017              $952,250                $2,400   \n5           2018              $865,000                $2,500   \n6           2019              $880,000                $2,600   \n7           2020            $1,000,000                $2,500   \n8           2021            $1,200,000                $2,550   \n9           2022            $1,300,000                $2,700   \n10          2023            $1,250,000                $2,700   \n\n   Close Price, Average_x Close Price, Average_y  \n0                $656,698                 $2,492  \n1                $715,496                 $2,544  \n2                $796,186                 $2,505  \n3                $942,357                 $2,525  \n4              $1,073,785                 $2,521  \n5                $944,653                 $2,628  \n6                $948,485                 $2,735  \n7              $1,098,155                 $2,663  \n8              $1,299,913                 $2,841  \n9              $1,403,603                 $2,956  \n10             $1,324,157                 $2,990  ",
      "text/html": "<div>\n<style scoped>\n    .dataframe tbody tr th:only-of-type {\n        vertical-align: middle;\n    }\n\n    .dataframe tbody tr th {\n        vertical-align: top;\n    }\n\n    .dataframe thead th {\n        text-align: right;\n    }\n</style>\n<table border=\"1\" class=\"dataframe\">\n  <thead>\n    <tr style=\"text-align: right;\">\n      <th></th>\n      <th>Primary Year</th>\n      <th>Close Price, Median_x</th>\n      <th>Close Price, Median_y</th>\n      <th>Close Price, Average_x</th>\n      <th>Close Price, Average_y</th>\n    </tr>\n  </thead>\n  <tbody>\n    <tr>\n      <th>0</th>\n      <td>2013</td>\n      <td>$600,000</td>\n      <td>$2,300</td>\n      <td>$656,698</td>\n      <td>$2,492</td>\n    </tr>\n    <tr>\n      <th>1</th>\n      <td>2014</td>\n      <td>$651,000</td>\n      <td>$2,300</td>\n      <td>$715,496</td>\n      <td>$2,544</td>\n    </tr>\n    <tr>\n      <th>2</th>\n      <td>2015</td>\n      <td>$720,000</td>\n      <td>$2,300</td>\n      <td>$796,186</td>\n      <td>$2,505</td>\n    </tr>\n    <tr>\n      <th>3</th>\n      <td>2016</td>\n      <td>$852,000</td>\n      <td>$2,350</td>\n      <td>$942,357</td>\n      <td>$2,525</td>\n    </tr>\n    <tr>\n      <th>4</th>\n      <td>2017</td>\n      <td>$952,250</td>\n      <td>$2,400</td>\n      <td>$1,073,785</td>\n      <td>$2,521</td>\n    </tr>\n    <tr>\n      <th>5</th>\n      <td>2018</td>\n      <td>$865,000</td>\n      <td>$2,500</td>\n      <td>$944,653</td>\n      <td>$2,628</td>\n    </tr>\n    <tr>\n      <th>6</th>\n      <td>2019</td>\n      <td>$880,000</td>\n      <td>$2,600</td>\n      <td>$948,485</td>\n      <td>$2,735</td>\n    </tr>\n    <tr>\n      <th>7</th>\n      <td>2020</td>\n      <td>$1,000,000</td>\n      <td>$2,500</td>\n      <td>$1,098,155</td>\n      <td>$2,663</td>\n    </tr>\n    <tr>\n      <th>8</th>\n      <td>2021</td>\n      <td>$1,200,000</td>\n      <td>$2,550</td>\n      <td>$1,299,913</td>\n      <td>$2,841</td>\n    </tr>\n    <tr>\n      <th>9</th>\n      <td>2022</td>\n      <td>$1,300,000</td>\n      <td>$2,700</td>\n      <td>$1,403,603</td>\n      <td>$2,956</td>\n    </tr>\n    <tr>\n      <th>10</th>\n      <td>2023</td>\n      <td>$1,250,000</td>\n      <td>$2,700</td>\n      <td>$1,324,157</td>\n      <td>$2,990</td>\n    </tr>\n  </tbody>\n</table>\n</div>"
     },
     "execution_count": 46,
     "metadata": {},
     "output_type": "execute_result"
    }
   ],
   "source": [
    "housing_dfs = [df_sale_median, df_rent_median, df_sale_average, df_rent_average]\n",
    "df_housing_merged = ft.reduce(lambda  left,right: pd.merge(left,right,on=['Primary Year'], how='outer'), housing_dfs)\n",
    "df_housing_merged"
   ],
   "metadata": {
    "collapsed": false,
    "ExecuteTime": {
     "end_time": "2023-12-12T01:11:32.185486Z",
     "start_time": "2023-12-12T01:11:32.180039Z"
    }
   },
   "id": "e04d1a7d54ebe312"
  },
  {
   "cell_type": "code",
   "execution_count": 47,
   "outputs": [
    {
     "name": "stdout",
     "output_type": "stream",
     "text": [
      "0\n"
     ]
    }
   ],
   "source": [
    "private_school_count = len(\n",
    "    df_private_schools.loc[(df_private_schools['City'] == 'Vaughan')])\n",
    "print(private_school_count)"
   ],
   "metadata": {
    "collapsed": false,
    "ExecuteTime": {
     "end_time": "2023-12-12T01:11:32.188928Z",
     "start_time": "2023-12-12T01:11:32.186430Z"
    }
   },
   "id": "4892260a2d08f422"
  },
  {
   "cell_type": "code",
   "execution_count": 48,
   "outputs": [
    {
     "name": "stdout",
     "output_type": "stream",
     "text": [
      "3\n"
     ]
    }
   ],
   "source": [
    "public_school_count = len(df_public_schools.loc[(df_public_schools['City'] == 'Vaughan') & (df_public_schools['School Type'] == 'Public')])\n",
    "print(public_school_count)"
   ],
   "metadata": {
    "ExecuteTime": {
     "end_time": "2023-12-12T01:11:32.190877Z",
     "start_time": "2023-12-12T01:11:32.189185Z"
    }
   },
   "id": "0a2e8d0e"
  },
  {
   "cell_type": "code",
   "execution_count": 49,
   "outputs": [
    {
     "name": "stdout",
     "output_type": "stream",
     "text": [
      "3\n"
     ]
    }
   ],
   "source": [
    "catholic_school_count = len(df_public_schools.loc[(df_public_schools['City'] == 'Vaughan') & (df_public_schools['School Type'] == 'Catholic')])\n",
    "print(catholic_school_count)"
   ],
   "metadata": {
    "collapsed": false,
    "ExecuteTime": {
     "end_time": "2023-12-12T01:11:32.194077Z",
     "start_time": "2023-12-12T01:11:32.192013Z"
    }
   },
   "id": "8674f75d999a491a"
  },
  {
   "cell_type": "code",
   "execution_count": 50,
   "id": "cd7dbc9a",
   "metadata": {
    "ExecuteTime": {
     "end_time": "2023-12-12T01:11:32.214259Z",
     "start_time": "2023-12-12T01:11:32.197118Z"
    }
   },
   "outputs": [
    {
     "name": "stdout",
     "output_type": "stream",
     "text": [
      "   Year Population Household Income House Values Unemployment Rate  \\\n",
      "0  2016     306233        $53441.00   $893065.00             5.80%   \n",
      "\n",
      "  Rented Housing Owned Housing  \n",
      "0           9765         84490  \n"
     ]
    }
   ],
   "source": [
    "def format_value(value, percentage=False, currency=False):\n",
    "    if isinstance(value, np.ndarray):\n",
    "        value = value.item()\n",
    "    if percentage:\n",
    "        return f\"{value:.2f}%\"\n",
    "    elif currency:\n",
    "        return f\"${value:.2f}\"\n",
    "    else:\n",
    "        return str(round(value))\n",
    "    \n",
    "population_2016 = df_2016.loc[df_2016['Characteristics'] == 'Population; 2016']['Total'].values\n",
    "income_2016 = df_2016.loc[df_2016['Characteristics'] == '    Average total income in 2015 among recipients ($)']['Total'].values\n",
    "house_value_2016 = df_2016.loc[df_2016['Characteristics'] == '  Average value of dwellings ($)']['Total'].values\n",
    "unemployment_2016 = df_2016.loc[df_2016['Characteristics'] == 'Unemployment rate']['Total'].values\n",
    "rented_2016 = df_2016.loc[df_2016['Characteristics'] == '  Renter']['Total'].values\n",
    "owned_2016 = df_2016.loc[df_2016['Characteristics'] == '  Owner']['Total'].values\n",
    "vaughan_2016 = {\n",
    "    'Year': '2016',\n",
    "    'Population': format_value(population_2016),\n",
    "    'Household Income': format_value(income_2016, currency = True),\n",
    "    'House Values': format_value(house_value_2016, currency = True),\n",
    "    'Unemployment Rate': format_value(unemployment_2016, percentage = True),\n",
    "    'Rented Housing': format_value(rented_2016),\n",
    "    'Owned Housing': format_value(owned_2016)\n",
    "}\n",
    "vaughan_2016_df = pd.DataFrame(vaughan_2016, index = [0])\n",
    "print(vaughan_2016_df)"
   ]
  },
  {
   "cell_type": "code",
   "execution_count": 51,
   "id": "91f0aacc",
   "metadata": {
    "scrolled": true,
    "ExecuteTime": {
     "end_time": "2023-12-12T01:11:32.226085Z",
     "start_time": "2023-12-12T01:11:32.201549Z"
    }
   },
   "outputs": [
    {
     "name": "stdout",
     "output_type": "stream",
     "text": [
      "   Year Population Household Income House Values Unemployment Rate  \\\n",
      "0  2021     323103       $153000.00  $1282000.00            12.50%   \n",
      "\n",
      "  Rented Housing Owned Housing  \n",
      "0          14620         89290  \n"
     ]
    }
   ],
   "source": [
    "population_2021 = df_2021.loc[df_2021['Characteristic'] == 'Population, 2021']['Total'].values\n",
    "income_2021 = df_2021.loc[df_2021['Characteristic'] == '  Average total income of household in 2020 ($)']['Total'].values\n",
    "house_value_2021 = df_2021.loc[df_2021['Characteristic'] == '  Average value of dwellings ($)']['Total'].values\n",
    "unemployment_2021 = df_2021.loc[df_2021['Characteristic'] == 'Unemployment rate']['Total'].values\n",
    "rented_2021 = df_2021.loc[df_2021['Characteristic'] == '  Renter']['Total'].values\n",
    "owned_2021 = df_2021.loc[df_2021['Characteristic'] == '  Owner']['Total'].values\n",
    "\n",
    "vaughan_2021 = {\n",
    "    'Year': '2021',\n",
    "    'Population': format_value(population_2021),\n",
    "    'Household Income': format_value(income_2021, currency = True),\n",
    "    'House Values': format_value(house_value_2021, currency = True),\n",
    "    'Unemployment Rate': format_value(unemployment_2021, percentage = True),\n",
    "    'Rented Housing': format_value(rented_2021),\n",
    "    'Owned Housing': format_value(owned_2021)\n",
    "}\n",
    "vaughan_2021_df = pd.DataFrame(vaughan_2021, index = [0])\n",
    "print(vaughan_2021_df)"
   ]
  },
  {
   "cell_type": "code",
   "execution_count": 52,
   "id": "2c46d90b",
   "metadata": {
    "ExecuteTime": {
     "end_time": "2023-12-12T01:11:32.226414Z",
     "start_time": "2023-12-12T01:11:32.204592Z"
    }
   },
   "outputs": [
    {
     "name": "stdout",
     "output_type": "stream",
     "text": [
      "   # of Catholic Schools  # of Public Schools  # of Private Schools\n",
      "0                      3                    3                     0\n"
     ]
    }
   ],
   "source": [
    "schools = {\n",
    "    '# of Catholic Schools': catholic_school_count,\n",
    "    '# of Public Schools': public_school_count,\n",
    "    '# of Private Schools': private_school_count\n",
    "}\n",
    "\n",
    "schools_df = pd.DataFrame(schools, index = [0])\n",
    "print(schools_df)"
   ]
  },
  {
   "cell_type": "code",
   "execution_count": 53,
   "id": "9f912832",
   "metadata": {
    "ExecuteTime": {
     "end_time": "2023-12-12T01:11:32.226690Z",
     "start_time": "2023-12-12T01:11:32.208174Z"
    }
   },
   "outputs": [
    {
     "name": "stdout",
     "output_type": "stream",
     "text": [
      "   Year Population Household Income House Values Unemployment Rate  \\\n",
      "0  2016     306233        $53441.00   $893065.00             5.80%   \n",
      "1  2021     323103       $153000.00  $1282000.00            12.50%   \n",
      "\n",
      "  Rented Housing Owned Housing  \n",
      "0           9765         84490  \n",
      "1          14620         89290  \n"
     ]
    }
   ],
   "source": [
    "combined_df = pd.concat([vaughan_2016_df, vaughan_2021_df], ignore_index=True)\n",
    "combined_df.set_index(['Year'])\n",
    "print(combined_df)"
   ]
  },
  {
   "cell_type": "code",
   "execution_count": 54,
   "outputs": [],
   "source": [
    "# Vaughan_df = pd.DataFrame({'City': ['Vaughan', 'Vaughan'],\n",
    "#                            'Year': ['2016', '2021'],\n",
    "#                            'Population': [population_2016, population_2021]\n",
    "#                            })\n",
    "# Vaughan_df = Vaughan_df.set_index(['City', 'Year'])\n",
    "# Vaughan_df = Vaughan_df\n",
    "# Vaughan_df"
   ],
   "metadata": {
    "collapsed": false,
    "ExecuteTime": {
     "end_time": "2023-12-12T01:11:32.226860Z",
     "start_time": "2023-12-12T01:11:32.210167Z"
    }
   },
   "id": "64a611e94006fcd1"
  }
 ],
 "metadata": {
  "kernelspec": {
   "display_name": "Python 3 (ipykernel)",
   "language": "python",
   "name": "python3"
  },
  "language_info": {
   "codemirror_mode": {
    "name": "ipython",
    "version": 3
   },
   "file_extension": ".py",
   "mimetype": "text/x-python",
   "name": "python",
   "nbconvert_exporter": "python",
   "pygments_lexer": "ipython3",
   "version": "3.11.5"
  }
 },
 "nbformat": 4,
 "nbformat_minor": 5
}
