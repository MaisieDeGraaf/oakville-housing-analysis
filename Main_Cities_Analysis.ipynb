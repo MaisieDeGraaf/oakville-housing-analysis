{
 "cells": [
  {
   "cell_type": "code",
   "execution_count": 18,
   "id": "41871ff5",
   "metadata": {
    "ExecuteTime": {
     "end_time": "2023-12-14T00:08:04.507477Z",
     "start_time": "2023-12-14T00:08:04.502134Z"
    }
   },
   "outputs": [],
   "source": [
    "import pandas as pd"
   ]
  },
  {
   "cell_type": "code",
   "execution_count": 21,
   "id": "5829179a",
   "metadata": {
    "ExecuteTime": {
     "end_time": "2023-12-14T00:09:18.301240Z",
     "start_time": "2023-12-14T00:09:06.264789Z"
    }
   },
   "outputs": [],
   "source": [
    "%%capture --no-display\n",
    "%run Burlington_Data_2021.ipynb"
   ]
  },
  {
   "cell_type": "code",
   "execution_count": 22,
   "id": "c22458f4",
   "metadata": {
    "ExecuteTime": {
     "end_time": "2023-12-14T00:10:19.374218Z",
     "start_time": "2023-12-14T00:10:12.941400Z"
    }
   },
   "outputs": [],
   "source": [
    "%%capture --no-display\n",
    "%run Oshawa.ipynb"
   ]
  },
  {
   "cell_type": "code",
   "execution_count": 23,
   "id": "8e984293",
   "metadata": {
    "ExecuteTime": {
     "end_time": "2023-12-14T00:10:34.226896Z",
     "start_time": "2023-12-14T00:10:29.329381Z"
    }
   },
   "outputs": [],
   "source": [
    "%%capture --no-display\n",
    "%run Housing.ipynb"
   ]
  },
  {
   "cell_type": "code",
   "execution_count": 24,
   "id": "9a67fcc0",
   "metadata": {
    "ExecuteTime": {
     "end_time": "2023-12-14T00:10:41.442973Z",
     "start_time": "2023-12-14T00:10:36.140868Z"
    }
   },
   "outputs": [],
   "source": [
    "%%capture --no-display\n",
    "%run Vaughan.ipynb"
   ]
  },
  {
   "cell_type": "code",
   "execution_count": 25,
   "id": "1ac9cc0b",
   "metadata": {
    "ExecuteTime": {
     "end_time": "2023-12-14T00:10:44.774178Z",
     "start_time": "2023-12-14T00:10:41.443976Z"
    }
   },
   "outputs": [],
   "source": [
    "%%capture --no-display\n",
    "%run \"Milton Analysis Project 1 Bootcamp.ipynb\""
   ]
  },
  {
   "cell_type": "code",
   "execution_count": null,
   "id": "f655e985",
   "metadata": {},
   "outputs": [],
   "source": [
    "all_cities_df = pd.concat([burlington_final_df, Oakville_df, vaughan_df, cleaned_milton_df, Oshawa_df])\n",
    "all_cities_df = all_cities_df.iloc[:, :-1]\n",
    "all_cities_df = all_cities_df.replace({'\\$': '', ',': '', '%': ''}, regex=True)\n",
    "all_cities_df = all_cities_df.astype(float)\n",
    "all_cities_df"
   ]
  },
  {
   "cell_type": "code",
   "execution_count": null,
   "id": "2407f378",
   "metadata": {},
   "outputs": [],
   "source": [
    "all_amenities_df = pd.concat([burlington_amenities_df, Oakville_amenities_df, vaughan_amenities_df, milton_leisure_df, Oshawa_amenities_df])\n",
    "all_amenities_df = all_amenities_df.astype(int)\n",
    "all_amenities_df"
   ]
  },
  {
   "cell_type": "markdown",
   "source": [
    "# Comparison between Estimated House Value vs Average Sale Price (both years on one bar graph)"
   ],
   "metadata": {
    "collapsed": false
   },
   "id": "8719550188f415e7"
  },
  {
   "cell_type": "code",
   "execution_count": null,
   "id": "7941c05c-4d5c-43e1-a943-44f41cc9b0ce",
   "metadata": {},
   "outputs": [],
   "source": [
    "import matplotlib.pyplot as plt\n",
    "\n",
    "# Reset index to get Year into its own column and change type to integer\n",
    "all_cities_reset_df = all_cities_df.reset_index(level='Year')\n",
    "all_cities_reset_df['Year'] = all_cities_reset_df['Year'].astype(int)\n",
    "\n",
    "# Filter the DataFrame to include only the relevant columns\n",
    "est_house_value_df = all_cities_reset_df[['Year', 'Estimated House Value ($)']]\n",
    "\n",
    "# Pivot the DataFrame to have 'Year' as the columns\n",
    "estimated_house = est_house_value_df.pivot(columns='Year', values='Estimated House Value ($)')\n",
    "\n",
    "# Plot the bar graph\n",
    "estimated_house.plot(kind='bar', stacked=False,color=['red', 'blue'])\n",
    "plt.title('Estimated House Value for all Cities in 2016 and 2021')\n",
    "plt.ylabel('Estimated House Value in millions ($)')\n",
    "plt.xticks(rotation=45, ha='right')  \n",
    "plt.legend(title='Year', bbox_to_anchor=(1.25, 1))\n",
    "plt.tight_layout()\n",
    "plt.show()"
   ]
  },
  {
   "cell_type": "code",
   "execution_count": null,
   "id": "ebcd13b3-1e74-4c2c-bc3d-88962dce3a8d",
   "metadata": {},
   "outputs": [],
   "source": [
    "avg_sale_price_df = all_cities_reset_df[['Year', 'Average Sale Price ($)']]\n",
    "\n",
    "average_sale = avg_sale_price_df.pivot(columns='Year', values='Average Sale Price ($)')\n",
    "\n",
    "# Plot the bar graph\n",
    "average_sale.plot(kind='bar', color=['tab:red', 'tab:blue'])\n",
    "plt.title('Average Sale Price for all Cities in 2016 and 2021')\n",
    "plt.ylabel('Average Sale Price ($)')\n",
    "plt.xticks(rotation=45, ha='right')  \n",
    "plt.legend(title='Year')\n",
    "plt.tight_layout()\n",
    "plt.show()"
   ]
  },
  {
   "cell_type": "code",
   "execution_count": null,
   "id": "ca2a69e3-f41f-4b70-8fc0-1fd023ed56d1",
   "metadata": {},
   "outputs": [],
   "source": [
    "estimated_avg_sale_df = all_cities_df[['Estimated House Value ($)','Average Sale Price ($)']]\n",
    "estimated_avg_sale_df"
   ]
  },
  {
   "cell_type": "code",
   "execution_count": null,
   "id": "157b32f7-4337-4293-afaf-78a048d1d5f1",
   "metadata": {},
   "outputs": [],
   "source": [
    "#%matplotlib inline\n",
    "graph = estimated_avg_sale_df.plot(kind = 'bar', title='Estimated House Value ($). vs Avg Sale Price ($)', color=[\"red\", \"blue\"])\n",
    "graph.set_xlabel(\"City, Year\")\n",
    "graph.set_ylabel(\"Price in millions ($)\")\n",
    "plt.show()\n",
    "plt.tight_layout()"
   ]
  },
  {
   "cell_type": "code",
   "execution_count": null,
   "id": "8b4a5b83-a7d1-4a80-9594-757c0232a9aa",
   "metadata": {},
   "outputs": [],
   "source": [
    "new_built_df = all_cities_reset_df[['Year', 'New Built']]\n",
    "\n",
    "new_builds = new_built_df.pivot(columns='Year', values='New Built')\n",
    "\n",
    "# Plot the bar graph\n",
    "new_builds.plot(kind='bar', color=['tab:orange', 'tab:purple'])\n",
    "plt.title('New Built for all Cities in 2016 and 2021')\n",
    "plt.ylabel('No. of New Builts')\n",
    "plt.xticks(rotation=45, ha='right')  \n",
    "plt.legend(title='Year')\n",
    "plt.tight_layout()\n",
    "plt.show()"
   ]
  },
  {
   "cell_type": "markdown",
   "source": [
    "# Unemployment Rate"
   ],
   "metadata": {
    "collapsed": false
   },
   "id": "2d9c7e3b15d1489"
  },
  {
   "cell_type": "markdown",
   "source": [],
   "metadata": {
    "collapsed": false
   },
   "id": "16ac570a1eda58ce"
  },
  {
   "cell_type": "code",
   "execution_count": null,
   "outputs": [],
   "source": [
    "import matplotlib.pyplot as plt\n",
    "\n",
    "# Reset index to get Year into its own column and change type to integer\n",
    "all_cities_reset_df = all_cities_df.reset_index(level='Year')\n",
    "all_cities_reset_df['Year'] = all_cities_reset_df['Year'].astype(int)\n",
    "\n",
    "# Filter the DataFrame to include only the relevant columns\n",
    "unemployment_df = all_cities_reset_df[['Year', 'Unemployment Rate (%)']]\n",
    "\n",
    "# Pivot the DataFrame to have 'Year' as the columns\n",
    "unemployment_pivot = unemployment_df.pivot(columns='Year', values='Unemployment Rate (%)')\n",
    "\n",
    "# Plot the bar graph\n",
    "unemployment_pivot.plot(kind='bar', stacked=False,color=['#3f899e', '#858437'])\n",
    "plt.title('Unemployment Rate Between Cities in 2016 and 2021')\n",
    "plt.ylabel('Unemployment Rate (%)')\n",
    "plt.xlabel('')\n",
    "plt.xticks(rotation=45, ha='right')  # Rotating x-axis labels for better readability\n",
    "plt.legend(title='Year', bbox_to_anchor=(1.25, 1))\n",
    "plt.show()"
   ],
   "metadata": {
    "collapsed": false
   },
   "id": "9ace281262b8fd26"
  },
  {
   "cell_type": "markdown",
   "source": [
    "# Total number of leisure places per city"
   ],
   "metadata": {
    "collapsed": false
   },
   "id": "601a0325c0259092"
  },
  {
   "cell_type": "code",
   "execution_count": null,
   "outputs": [],
   "source": [
    "import matplotlib.pyplot as plt\n",
    "\n",
    "# Reset index to get Year into its own column and change type to integer\n",
    "all_amenities_reset_df = all_amenities_df.reset_index(level='City')\n",
    "all_amenities_reset_df['City'] = all_amenities_reset_df['City']\n",
    "\n",
    "# Filter the DataFrame to include only the relevant columns\n",
    "leisure_df = all_amenities_reset_df[['City', '# of Leisure Spaces']]\n",
    "\n",
    "# Extracting data for the bar graph\n",
    "cities = leisure_df['City']\n",
    "leisure_spaces = leisure_df['# of Leisure Spaces']\n",
    "\n",
    "# Create Graph\n",
    "bars = plt.bar(cities, leisure_spaces, color='#3f899e')\n",
    "plt.ylabel('# of Leisure Spaces')\n",
    "plt.title('Number of Leisure Spaces in Each City')\n",
    "plt.xticks(rotation=45, ha='right')  # Rotating x-axis labels for better readability\n",
    "\n",
    "# Adding count numbers to the top of each bar\n",
    "for bar in bars:\n",
    "    yval = bar.get_height()\n",
    "    plt.text(bar.get_x() + bar.get_width()/2, yval, round(yval, 2), ha='center', va='bottom')\n",
    "\n",
    "plt.tight_layout()\n",
    "\n",
    "plt.show()"
   ],
   "metadata": {
    "collapsed": false
   },
   "id": "f3d8b7e3a2ca77ad"
  }
 ],
 "metadata": {
  "kernelspec": {
   "display_name": "Python 3 (ipykernel)",
   "language": "python",
   "name": "python3"
  },
  "language_info": {
   "codemirror_mode": {
    "name": "ipython",
    "version": 3
   },
   "file_extension": ".py",
   "mimetype": "text/x-python",
   "name": "python",
   "nbconvert_exporter": "python",
   "pygments_lexer": "ipython3",
   "version": "3.11.5"
  }
 },
 "nbformat": 4,
 "nbformat_minor": 5
}
