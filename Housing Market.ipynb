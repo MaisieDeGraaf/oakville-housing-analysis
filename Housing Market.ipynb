{
 "cells": [
  {
   "cell_type": "code",
   "execution_count": 1,
   "id": "d28ec504",
   "metadata": {},
   "outputs": [],
   "source": [
    "#Dependencies\n",
    "import pandas as pd\n",
    "from pathlib import Path\n",
    "import numpy as np\n",
    "import api_keys\n",
    "import json\n",
    "from pprint import pprint\n",
    "import requests"
   ]
  },
  {
   "cell_type": "markdown",
   "id": "89d29817",
   "metadata": {},
   "source": [
    "****<font size=\"5\">Population</font>****"
   ]
  },
  {
   "cell_type": "code",
   "execution_count": 2,
   "id": "25658703",
   "metadata": {},
   "outputs": [
    {
     "name": "stdout",
     "output_type": "stream",
     "text": [
      "175383 and 159458\n"
     ]
    }
   ],
   "source": [
    "#Listing all my paths\n",
    "data = Path(\"Resources1/2016 - 2021 Population - Oshawa.csv\")\n",
    "\n",
    "#Read the csv file\n",
    "df = pd.read_csv(data)\n",
    "oshawa_pop_2021 = df.index[3][3]\n",
    "oshawa_pop_2016 = df.index[4][3]\n",
    "print(oshawa_pop_2021+\" \"+\"and\"+\" \"+oshawa_pop_2016)"
   ]
  },
  {
   "cell_type": "code",
   "execution_count": 3,
   "id": "8efc4c15",
   "metadata": {},
   "outputs": [
    {
     "data": {
      "text/html": [
       "<div>\n",
       "<style scoped>\n",
       "    .dataframe tbody tr th:only-of-type {\n",
       "        vertical-align: middle;\n",
       "    }\n",
       "\n",
       "    .dataframe tbody tr th {\n",
       "        vertical-align: top;\n",
       "    }\n",
       "\n",
       "    .dataframe thead th {\n",
       "        text-align: right;\n",
       "    }\n",
       "</style>\n",
       "<table border=\"1\" class=\"dataframe\">\n",
       "  <thead>\n",
       "    <tr style=\"text-align: right;\">\n",
       "      <th></th>\n",
       "      <th></th>\n",
       "      <th>Population</th>\n",
       "    </tr>\n",
       "    <tr>\n",
       "      <th>City</th>\n",
       "      <th>Year</th>\n",
       "      <th></th>\n",
       "    </tr>\n",
       "  </thead>\n",
       "  <tbody>\n",
       "    <tr>\n",
       "      <th rowspan=\"2\" valign=\"top\">Oshawa</th>\n",
       "      <th>2016</th>\n",
       "      <td>159458</td>\n",
       "    </tr>\n",
       "    <tr>\n",
       "      <th>2021</th>\n",
       "      <td>175383</td>\n",
       "    </tr>\n",
       "  </tbody>\n",
       "</table>\n",
       "</div>"
      ],
      "text/plain": [
       "             Population\n",
       "City   Year            \n",
       "Oshawa 2016      159458\n",
       "        2021     175383"
      ]
     },
     "execution_count": 3,
     "metadata": {},
     "output_type": "execute_result"
    }
   ],
   "source": [
    "\n",
    "#Create a MultiIndex using an Index and a column:\n",
    "\n",
    "Oshawa_df = pd.DataFrame({'City': ['Oshawa', 'Oshawa' ],\n",
    "                          'Year': ['2016',' 2021'],\n",
    "                          'Population': [oshawa_pop_2016, oshawa_pop_2021,],\n",
    "                         })\n",
    "Oshawa_df = Oshawa_df.set_index(['City', 'Year'])\n",
    "Oshawa_df"
   ]
  },
  {
   "cell_type": "markdown",
   "id": "4beed74e",
   "metadata": {},
   "source": [
    "****<font size=\"5\">Household Income</font>****"
   ]
  },
  {
   "cell_type": "code",
   "execution_count": 4,
   "id": "f1f3bd4b",
   "metadata": {},
   "outputs": [
    {
     "data": {
      "text/plain": [
       "'   70211'"
      ]
     },
     "execution_count": 4,
     "metadata": {},
     "output_type": "execute_result"
    }
   ],
   "source": [
    "#Listing all my paths\n",
    "data_2016 = Path(\"Resources1/2016 Household Income (stat can) - Oshawa.csv\")\n",
    "\n",
    "#Read the csv file\n",
    "df_2016 = pd.read_csv(data_2016, encoding = \"ISO-8859-1\")\n",
    "oshawa_income_2016 = df_2016.index[83][3]\n",
    "oshawa_income_2016"
   ]
  },
  {
   "cell_type": "code",
   "execution_count": 5,
   "id": "aad67d38",
   "metadata": {},
   "outputs": [
    {
     "data": {
      "text/plain": [
       "' 86000'"
      ]
     },
     "execution_count": 5,
     "metadata": {},
     "output_type": "execute_result"
    }
   ],
   "source": [
    "#Listing all my paths\n",
    "data_2021 = Path(\"Resources1/2021 Household Income (stat can) - Oshawa.csv\")\n",
    "\n",
    "#Read the csv file\n",
    "df_2021 = pd.read_csv(data_2021, encoding = \"ISO-8859-1\")\n",
    "oshawa_income_2021 = df_2021.index[4][3]\n",
    "oshawa_income_2021"
   ]
  },
  {
   "cell_type": "code",
   "execution_count": 6,
   "id": "e8a4b611",
   "metadata": {},
   "outputs": [
    {
     "data": {
      "text/html": [
       "<div>\n",
       "<style scoped>\n",
       "    .dataframe tbody tr th:only-of-type {\n",
       "        vertical-align: middle;\n",
       "    }\n",
       "\n",
       "    .dataframe tbody tr th {\n",
       "        vertical-align: top;\n",
       "    }\n",
       "\n",
       "    .dataframe thead th {\n",
       "        text-align: right;\n",
       "    }\n",
       "</style>\n",
       "<table border=\"1\" class=\"dataframe\">\n",
       "  <thead>\n",
       "    <tr style=\"text-align: right;\">\n",
       "      <th></th>\n",
       "      <th></th>\n",
       "      <th>Population</th>\n",
       "      <th>Household Income ($)</th>\n",
       "    </tr>\n",
       "    <tr>\n",
       "      <th>City</th>\n",
       "      <th>Year</th>\n",
       "      <th></th>\n",
       "      <th></th>\n",
       "    </tr>\n",
       "  </thead>\n",
       "  <tbody>\n",
       "    <tr>\n",
       "      <th rowspan=\"2\" valign=\"top\">Oshawa</th>\n",
       "      <th>2016</th>\n",
       "      <td>159458</td>\n",
       "      <td>70211</td>\n",
       "    </tr>\n",
       "    <tr>\n",
       "      <th>2021</th>\n",
       "      <td>175383</td>\n",
       "      <td>86000</td>\n",
       "    </tr>\n",
       "  </tbody>\n",
       "</table>\n",
       "</div>"
      ],
      "text/plain": [
       "             Population Household Income ($)\n",
       "City   Year                                 \n",
       "Oshawa 2016      159458                70211\n",
       "        2021     175383                86000"
      ]
     },
     "execution_count": 6,
     "metadata": {},
     "output_type": "execute_result"
    }
   ],
   "source": [
    "#Adding to the df\n",
    "Oshawa_df[\"Household Income ($)\"] = [oshawa_income_2016,oshawa_income_2021]\n",
    "Oshawa_df"
   ]
  },
  {
   "cell_type": "markdown",
   "id": "a5a816ff",
   "metadata": {},
   "source": [
    "****<font size=\"5\">Average and Median Rent</font>****"
   ]
  },
  {
   "cell_type": "code",
   "execution_count": 7,
   "id": "11418fb8",
   "metadata": {},
   "outputs": [
    {
     "name": "stdout",
     "output_type": "stream",
     "text": [
      "    1070 and     1015\n"
     ]
    }
   ],
   "source": [
    "#Listing all my paths\n",
    "data_2016 = Path(\"Resources1/2016 Owned vs Rented - Oshawa.csv\")\n",
    "\n",
    "#Read the csv file\n",
    "df_2016 = pd.read_csv(data_2016, encoding = \"ISO-8859-1\")\n",
    "oshawa_average_rent_2016 = df_2016.index[67][3]\n",
    "oshawa_median_rent_2016 = df_2016.index[66][3]\n",
    "print(f'{oshawa_average_rent_2016} and {oshawa_median_rent_2016}')"
   ]
  },
  {
   "cell_type": "code",
   "execution_count": 8,
   "id": "e93e717c",
   "metadata": {},
   "outputs": [
    {
     "name": "stdout",
     "output_type": "stream",
     "text": [
      "  1400 and   1300\n"
     ]
    }
   ],
   "source": [
    "#Listing all my paths\n",
    "data_2021 = Path(\"Resources1/2021 Owned vs Rented - Oshawa.csv\")\n",
    "\n",
    "#Read the csv file\n",
    "df_2021 = pd.read_csv(data_2021, encoding = \"ISO-8859-1\")\n",
    "oshawa_average_rent_2021 = df_2021.index[84][3]\n",
    "oshawa_median_rent_2021 = df_2021.index[83][3]\n",
    "print(f'{oshawa_average_rent_2021} and {oshawa_median_rent_2021}')"
   ]
  },
  {
   "cell_type": "code",
   "execution_count": 9,
   "id": "3a49d695",
   "metadata": {},
   "outputs": [
    {
     "data": {
      "text/html": [
       "<div>\n",
       "<style scoped>\n",
       "    .dataframe tbody tr th:only-of-type {\n",
       "        vertical-align: middle;\n",
       "    }\n",
       "\n",
       "    .dataframe tbody tr th {\n",
       "        vertical-align: top;\n",
       "    }\n",
       "\n",
       "    .dataframe thead th {\n",
       "        text-align: right;\n",
       "    }\n",
       "</style>\n",
       "<table border=\"1\" class=\"dataframe\">\n",
       "  <thead>\n",
       "    <tr style=\"text-align: right;\">\n",
       "      <th></th>\n",
       "      <th></th>\n",
       "      <th>Population</th>\n",
       "      <th>Household Income ($)</th>\n",
       "      <th>Average Rent ($)</th>\n",
       "      <th>Median Rent ($)</th>\n",
       "    </tr>\n",
       "    <tr>\n",
       "      <th>City</th>\n",
       "      <th>Year</th>\n",
       "      <th></th>\n",
       "      <th></th>\n",
       "      <th></th>\n",
       "      <th></th>\n",
       "    </tr>\n",
       "  </thead>\n",
       "  <tbody>\n",
       "    <tr>\n",
       "      <th rowspan=\"2\" valign=\"top\">Oshawa</th>\n",
       "      <th>2016</th>\n",
       "      <td>159458</td>\n",
       "      <td>70211</td>\n",
       "      <td>1070</td>\n",
       "      <td>1015</td>\n",
       "    </tr>\n",
       "    <tr>\n",
       "      <th>2021</th>\n",
       "      <td>175383</td>\n",
       "      <td>86000</td>\n",
       "      <td>1400</td>\n",
       "      <td>1300</td>\n",
       "    </tr>\n",
       "  </tbody>\n",
       "</table>\n",
       "</div>"
      ],
      "text/plain": [
       "             Population Household Income ($) Average Rent ($) Median Rent ($)\n",
       "City   Year                                                                  \n",
       "Oshawa 2016      159458                70211             1070            1015\n",
       "        2021     175383                86000             1400            1300"
      ]
     },
     "execution_count": 9,
     "metadata": {},
     "output_type": "execute_result"
    }
   ],
   "source": [
    "#Adding to the df\n",
    "Oshawa_df[\"Average Rent ($)\"] = [oshawa_average_rent_2016,oshawa_average_rent_2021]\n",
    "Oshawa_df[\"Median Rent ($)\"] = [oshawa_median_rent_2016,oshawa_median_rent_2021]\n",
    "Oshawa_df"
   ]
  },
  {
   "cell_type": "markdown",
   "id": "158d3eae",
   "metadata": {},
   "source": [
    "****<font size=\"5\">Estimated House Value</font>****"
   ]
  },
  {
   "cell_type": "code",
   "execution_count": 10,
   "id": "c4184115",
   "metadata": {},
   "outputs": [
    {
     "data": {
      "text/plain": [
       "397934.0"
      ]
     },
     "execution_count": 10,
     "metadata": {},
     "output_type": "execute_result"
    }
   ],
   "source": [
    "#Listing all my paths\n",
    "data_2016 = Path(\"Resources1/2016 Owned vs Rented - Oshawa.csv\")\n",
    "\n",
    "#Read the csv file\n",
    "df_2016 = pd.read_csv(data_2016, encoding = \"ISO-8859-1\",skiprows=[0,1])\n",
    "oshawa_value_2016 = df_2016.index[60][3]\n",
    "oshawa_value_2016"
   ]
  },
  {
   "cell_type": "code",
   "execution_count": 11,
   "id": "84569c27",
   "metadata": {
    "scrolled": true
   },
   "outputs": [
    {
     "data": {
      "text/plain": [
       "'705000'"
      ]
     },
     "execution_count": 11,
     "metadata": {},
     "output_type": "execute_result"
    }
   ],
   "source": [
    "#Listing all my paths\n",
    "data_2021 = Path(\"Resources1/2021 Owned vs Rented - Oshawa.csv\")\n",
    "\n",
    "#Read the csv file\n",
    "df_2021 = pd.read_csv(data_2021, encoding = \"ISO-8859-1\",skiprows=[0,1])\n",
    "oshawa_value_2021 = df_2021.iloc[76][3]\n",
    "oshawa_value_2021"
   ]
  },
  {
   "cell_type": "code",
   "execution_count": 12,
   "id": "3c71d906",
   "metadata": {},
   "outputs": [
    {
     "data": {
      "text/html": [
       "<div>\n",
       "<style scoped>\n",
       "    .dataframe tbody tr th:only-of-type {\n",
       "        vertical-align: middle;\n",
       "    }\n",
       "\n",
       "    .dataframe tbody tr th {\n",
       "        vertical-align: top;\n",
       "    }\n",
       "\n",
       "    .dataframe thead th {\n",
       "        text-align: right;\n",
       "    }\n",
       "</style>\n",
       "<table border=\"1\" class=\"dataframe\">\n",
       "  <thead>\n",
       "    <tr style=\"text-align: right;\">\n",
       "      <th></th>\n",
       "      <th></th>\n",
       "      <th>Population</th>\n",
       "      <th>Household Income ($)</th>\n",
       "      <th>Average Rent ($)</th>\n",
       "      <th>Median Rent ($)</th>\n",
       "      <th>Estimated House Value ($)</th>\n",
       "    </tr>\n",
       "    <tr>\n",
       "      <th>City</th>\n",
       "      <th>Year</th>\n",
       "      <th></th>\n",
       "      <th></th>\n",
       "      <th></th>\n",
       "      <th></th>\n",
       "      <th></th>\n",
       "    </tr>\n",
       "  </thead>\n",
       "  <tbody>\n",
       "    <tr>\n",
       "      <th rowspan=\"2\" valign=\"top\">Oshawa</th>\n",
       "      <th>2016</th>\n",
       "      <td>159458</td>\n",
       "      <td>70211</td>\n",
       "      <td>1070</td>\n",
       "      <td>1015</td>\n",
       "      <td>1015</td>\n",
       "    </tr>\n",
       "    <tr>\n",
       "      <th>2021</th>\n",
       "      <td>175383</td>\n",
       "      <td>86000</td>\n",
       "      <td>1400</td>\n",
       "      <td>1300</td>\n",
       "      <td>1300</td>\n",
       "    </tr>\n",
       "  </tbody>\n",
       "</table>\n",
       "</div>"
      ],
      "text/plain": [
       "             Population Household Income ($) Average Rent ($) Median Rent ($)  \\\n",
       "City   Year                                                                     \n",
       "Oshawa 2016      159458                70211             1070            1015   \n",
       "        2021     175383                86000             1400            1300   \n",
       "\n",
       "             Estimated House Value ($)  \n",
       "City   Year                             \n",
       "Oshawa 2016                       1015  \n",
       "        2021                      1300  "
      ]
     },
     "execution_count": 12,
     "metadata": {},
     "output_type": "execute_result"
    }
   ],
   "source": [
    "#Adding to the df\n",
    "Oshawa_df[\"Estimated House Value ($)\"] = [oshawa_median_rent_2016,oshawa_median_rent_2021]\n",
    "Oshawa_df"
   ]
  },
  {
   "cell_type": "markdown",
   "id": "a513943b",
   "metadata": {},
   "source": [
    "**<font size=\"5\">Unemployment rate</font>**"
   ]
  },
  {
   "cell_type": "code",
   "execution_count": 13,
   "id": "7fd7dd4e",
   "metadata": {
    "scrolled": false
   },
   "outputs": [
    {
     "data": {
      "text/plain": [
       "'  9.8'"
      ]
     },
     "execution_count": 13,
     "metadata": {},
     "output_type": "execute_result"
    }
   ],
   "source": [
    "#Listing all my paths\n",
    "data_2016 = Path(\"Resources1/2016 Employment - Oshawa.csv\")\n",
    "\n",
    "#Read the csv file\n",
    "df_2016 = pd.read_csv(data_2016, encoding = \"ISO-8859-1\")\n",
    "oshawa_unemploymentr_2016 = df_2016.index[9][3]\n",
    "oshawa_unemploymentr_2016"
   ]
  },
  {
   "cell_type": "code",
   "execution_count": 14,
   "id": "808a7b89",
   "metadata": {},
   "outputs": [
    {
     "data": {
      "text/plain": [
       "'   15.2'"
      ]
     },
     "execution_count": 14,
     "metadata": {},
     "output_type": "execute_result"
    }
   ],
   "source": [
    "#Listing all my paths\n",
    "data_2021 = Path(\"Resources1/2021 Employment - Oshawa.csv\")\n",
    "\n",
    "#Read the csv file\n",
    "df_2021 = pd.read_csv(data_2021, encoding = \"ISO-8859-1\")\n",
    "oshawa_unemploymentr_2021 = df_2021.index[10][3]\n",
    "oshawa_unemploymentr_2021"
   ]
  },
  {
   "cell_type": "code",
   "execution_count": 15,
   "id": "7ba410d6",
   "metadata": {},
   "outputs": [
    {
     "data": {
      "text/html": [
       "<div>\n",
       "<style scoped>\n",
       "    .dataframe tbody tr th:only-of-type {\n",
       "        vertical-align: middle;\n",
       "    }\n",
       "\n",
       "    .dataframe tbody tr th {\n",
       "        vertical-align: top;\n",
       "    }\n",
       "\n",
       "    .dataframe thead th {\n",
       "        text-align: right;\n",
       "    }\n",
       "</style>\n",
       "<table border=\"1\" class=\"dataframe\">\n",
       "  <thead>\n",
       "    <tr style=\"text-align: right;\">\n",
       "      <th></th>\n",
       "      <th></th>\n",
       "      <th>Population</th>\n",
       "      <th>Household Income ($)</th>\n",
       "      <th>Average Rent ($)</th>\n",
       "      <th>Median Rent ($)</th>\n",
       "      <th>Estimated House Value ($)</th>\n",
       "      <th>Unemployment Rate (%)</th>\n",
       "    </tr>\n",
       "    <tr>\n",
       "      <th>City</th>\n",
       "      <th>Year</th>\n",
       "      <th></th>\n",
       "      <th></th>\n",
       "      <th></th>\n",
       "      <th></th>\n",
       "      <th></th>\n",
       "      <th></th>\n",
       "    </tr>\n",
       "  </thead>\n",
       "  <tbody>\n",
       "    <tr>\n",
       "      <th rowspan=\"2\" valign=\"top\">Oshawa</th>\n",
       "      <th>2016</th>\n",
       "      <td>159458</td>\n",
       "      <td>70211</td>\n",
       "      <td>1070</td>\n",
       "      <td>1015</td>\n",
       "      <td>1015</td>\n",
       "      <td>9.8</td>\n",
       "    </tr>\n",
       "    <tr>\n",
       "      <th>2021</th>\n",
       "      <td>175383</td>\n",
       "      <td>86000</td>\n",
       "      <td>1400</td>\n",
       "      <td>1300</td>\n",
       "      <td>1300</td>\n",
       "      <td>15.2</td>\n",
       "    </tr>\n",
       "  </tbody>\n",
       "</table>\n",
       "</div>"
      ],
      "text/plain": [
       "             Population Household Income ($) Average Rent ($) Median Rent ($)  \\\n",
       "City   Year                                                                     \n",
       "Oshawa 2016      159458                70211             1070            1015   \n",
       "        2021     175383                86000             1400            1300   \n",
       "\n",
       "             Estimated House Value ($) Unemployment Rate (%)  \n",
       "City   Year                                                   \n",
       "Oshawa 2016                       1015                   9.8  \n",
       "        2021                      1300                  15.2  "
      ]
     },
     "execution_count": 15,
     "metadata": {},
     "output_type": "execute_result"
    }
   ],
   "source": [
    "#Adding to the df\n",
    "Oshawa_df[\"Unemployment Rate (%)\"] = [oshawa_unemploymentr_2016,oshawa_unemploymentr_2021]\n",
    "Oshawa_df"
   ]
  },
  {
   "cell_type": "markdown",
   "id": "5cef74e5",
   "metadata": {},
   "source": [
    "**<font size=\"5\">Property Tax</font>**"
   ]
  },
  {
   "cell_type": "code",
   "execution_count": 27,
   "id": "d6994668",
   "metadata": {},
   "outputs": [
    {
     "data": {
      "text/plain": [
       "1.561085"
      ]
     },
     "execution_count": 27,
     "metadata": {},
     "output_type": "execute_result"
    }
   ],
   "source": [
    "#Small note : tax = House Value * tax rate\n",
    "#Listing all my paths\n",
    "data_2016 = Path(\"Resources1/2016 Property Tax Rates-Oshawa.csv\")\n",
    "\n",
    "#Read the csv file\n",
    "df_2016 = pd.read_csv(data_2016, encoding = \"ISO-8859-1\", on_bad_lines = \"skip\", sep = \";\")\n",
    "df_2016 = df_2016.loc[df_2016[\"Municipality\"] == \"Oshawa\"]\n",
    "oshawa_taxr_2016 = df_2016.iloc[0][4]\n",
    "oshawa_taxr_2016"
   ]
  },
  {
   "cell_type": "code",
   "execution_count": 17,
   "id": "0aae96f3",
   "metadata": {},
   "outputs": [
    {
     "data": {
      "text/plain": [
       "'1.304741'"
      ]
     },
     "execution_count": 17,
     "metadata": {},
     "output_type": "execute_result"
    }
   ],
   "source": [
    "#Small note : tax = House Value * tax rate\n",
    "#Listing all my paths\n",
    "data_2021 = Path(\"Resources1/2021 Property Tax Rates-Oshawa.csv\")\n",
    "\n",
    "#Read the csv file\n",
    "df_2021 = pd.read_csv(data_2021, encoding = \"ISO-8859-1\", on_bad_lines = \"skip\", sep = \";\")\n",
    "oshawa_taxr_2021 = df_2021.iloc[3][3]\n",
    "oshawa_taxr_2021"
   ]
  },
  {
   "cell_type": "code",
   "execution_count": 28,
   "id": "7aaae6a3",
   "metadata": {},
   "outputs": [
    {
     "data": {
      "text/html": [
       "<div>\n",
       "<style scoped>\n",
       "    .dataframe tbody tr th:only-of-type {\n",
       "        vertical-align: middle;\n",
       "    }\n",
       "\n",
       "    .dataframe tbody tr th {\n",
       "        vertical-align: top;\n",
       "    }\n",
       "\n",
       "    .dataframe thead th {\n",
       "        text-align: right;\n",
       "    }\n",
       "</style>\n",
       "<table border=\"1\" class=\"dataframe\">\n",
       "  <thead>\n",
       "    <tr style=\"text-align: right;\">\n",
       "      <th></th>\n",
       "      <th></th>\n",
       "      <th>Population</th>\n",
       "      <th>Household Income ($)</th>\n",
       "      <th>Average Rent ($)</th>\n",
       "      <th>Median Rent ($)</th>\n",
       "      <th>Estimated House Value ($)</th>\n",
       "      <th>Unemployment Rate (%)</th>\n",
       "      <th>Property Tax Rate (%)</th>\n",
       "      <th>Rented Houses</th>\n",
       "      <th>Owned Houses</th>\n",
       "      <th>New Built</th>\n",
       "    </tr>\n",
       "    <tr>\n",
       "      <th>City</th>\n",
       "      <th>Year</th>\n",
       "      <th></th>\n",
       "      <th></th>\n",
       "      <th></th>\n",
       "      <th></th>\n",
       "      <th></th>\n",
       "      <th></th>\n",
       "      <th></th>\n",
       "      <th></th>\n",
       "      <th></th>\n",
       "      <th></th>\n",
       "    </tr>\n",
       "  </thead>\n",
       "  <tbody>\n",
       "    <tr>\n",
       "      <th rowspan=\"2\" valign=\"top\">Oshawa</th>\n",
       "      <th>2016</th>\n",
       "      <td>159458</td>\n",
       "      <td>70211</td>\n",
       "      <td>1070</td>\n",
       "      <td>1015</td>\n",
       "      <td>1015</td>\n",
       "      <td>9.8</td>\n",
       "      <td>1.561085</td>\n",
       "      <td>19720</td>\n",
       "      <td>42875</td>\n",
       "      <td>834</td>\n",
       "    </tr>\n",
       "    <tr>\n",
       "      <th>2021</th>\n",
       "      <td>175383</td>\n",
       "      <td>86000</td>\n",
       "      <td>1400</td>\n",
       "      <td>1300</td>\n",
       "      <td>1300</td>\n",
       "      <td>15.2</td>\n",
       "      <td>1.304741</td>\n",
       "      <td>23880</td>\n",
       "      <td>42750</td>\n",
       "      <td>1,416</td>\n",
       "    </tr>\n",
       "  </tbody>\n",
       "</table>\n",
       "</div>"
      ],
      "text/plain": [
       "             Population Household Income ($) Average Rent ($) Median Rent ($)  \\\n",
       "City   Year                                                                     \n",
       "Oshawa 2016      159458                70211             1070            1015   \n",
       "        2021     175383                86000             1400            1300   \n",
       "\n",
       "             Estimated House Value ($) Unemployment Rate (%)  \\\n",
       "City   Year                                                    \n",
       "Oshawa 2016                       1015                   9.8   \n",
       "        2021                      1300                  15.2   \n",
       "\n",
       "             Property Tax Rate (%) Rented Houses Owned Houses New Built  \n",
       "City   Year                                                              \n",
       "Oshawa 2016               1.561085         19720        42875       834  \n",
       "        2021              1.304741         23880        42750     1,416  "
      ]
     },
     "execution_count": 28,
     "metadata": {},
     "output_type": "execute_result"
    }
   ],
   "source": [
    "#Adding to the df\n",
    "Oshawa_df[\"Property Tax Rate (%)\"] = [oshawa_taxr_2016,oshawa_taxr_2021]\n",
    "Oshawa_df"
   ]
  },
  {
   "cell_type": "markdown",
   "id": "211551f9",
   "metadata": {},
   "source": [
    "**<font size=\"5\">Rented & Owned Houses</font>**"
   ]
  },
  {
   "cell_type": "code",
   "execution_count": 19,
   "id": "a9bc8eec",
   "metadata": {},
   "outputs": [
    {
     "name": "stdout",
     "output_type": "stream",
     "text": [
      "   42875 and    19720\n"
     ]
    }
   ],
   "source": [
    "#Listing all my paths\n",
    "data_2016 = Path(\"Resources1/2016 Owned vs Rented - Oshawa.csv\")\n",
    "\n",
    "#Read the csv file\n",
    "df_2016 = pd.read_csv(data_2016, encoding = \"ISO-8859-1\")\n",
    "oshawa_owned_2016 = df_2016.index[3][3]\n",
    "oshawa_rented_2016 = df_2016.index[4][3]\n",
    "print(f'{oshawa_owned_2016} and {oshawa_rented_2016}')"
   ]
  },
  {
   "cell_type": "code",
   "execution_count": 20,
   "id": "d488fa19",
   "metadata": {},
   "outputs": [
    {
     "name": "stdout",
     "output_type": "stream",
     "text": [
      " 42750 and  23880\n"
     ]
    }
   ],
   "source": [
    "#Listing all my paths\n",
    "data_2021 = Path(\"Resources1/2021 Owned vs Rented - Oshawa.csv\")\n",
    "\n",
    "#Read the csv file\n",
    "df_2021 = pd.read_csv(data_2021, encoding = \"ISO-8859-1\")\n",
    "oshawa_owned_2021 = df_2021.index[4][3]\n",
    "oshawa_rented_2021 = df_2021.index[5][3]\n",
    "print(f'{oshawa_owned_2021} and {oshawa_rented_2021}')"
   ]
  },
  {
   "cell_type": "code",
   "execution_count": 21,
   "id": "7502bb72",
   "metadata": {},
   "outputs": [
    {
     "data": {
      "text/html": [
       "<div>\n",
       "<style scoped>\n",
       "    .dataframe tbody tr th:only-of-type {\n",
       "        vertical-align: middle;\n",
       "    }\n",
       "\n",
       "    .dataframe tbody tr th {\n",
       "        vertical-align: top;\n",
       "    }\n",
       "\n",
       "    .dataframe thead th {\n",
       "        text-align: right;\n",
       "    }\n",
       "</style>\n",
       "<table border=\"1\" class=\"dataframe\">\n",
       "  <thead>\n",
       "    <tr style=\"text-align: right;\">\n",
       "      <th></th>\n",
       "      <th></th>\n",
       "      <th>Population</th>\n",
       "      <th>Household Income ($)</th>\n",
       "      <th>Average Rent ($)</th>\n",
       "      <th>Median Rent ($)</th>\n",
       "      <th>Estimated House Value ($)</th>\n",
       "      <th>Unemployment Rate (%)</th>\n",
       "      <th>Property Tax Rate (%)</th>\n",
       "      <th>Rented Houses</th>\n",
       "      <th>Owned Houses</th>\n",
       "    </tr>\n",
       "    <tr>\n",
       "      <th>City</th>\n",
       "      <th>Year</th>\n",
       "      <th></th>\n",
       "      <th></th>\n",
       "      <th></th>\n",
       "      <th></th>\n",
       "      <th></th>\n",
       "      <th></th>\n",
       "      <th></th>\n",
       "      <th></th>\n",
       "      <th></th>\n",
       "    </tr>\n",
       "  </thead>\n",
       "  <tbody>\n",
       "    <tr>\n",
       "      <th rowspan=\"2\" valign=\"top\">Oshawa</th>\n",
       "      <th>2016</th>\n",
       "      <td>159458</td>\n",
       "      <td>70211</td>\n",
       "      <td>1070</td>\n",
       "      <td>1015</td>\n",
       "      <td>1015</td>\n",
       "      <td>9.8</td>\n",
       "      <td>1,561085</td>\n",
       "      <td>19720</td>\n",
       "      <td>42875</td>\n",
       "    </tr>\n",
       "    <tr>\n",
       "      <th>2021</th>\n",
       "      <td>175383</td>\n",
       "      <td>86000</td>\n",
       "      <td>1400</td>\n",
       "      <td>1300</td>\n",
       "      <td>1300</td>\n",
       "      <td>15.2</td>\n",
       "      <td>1.304741</td>\n",
       "      <td>23880</td>\n",
       "      <td>42750</td>\n",
       "    </tr>\n",
       "  </tbody>\n",
       "</table>\n",
       "</div>"
      ],
      "text/plain": [
       "             Population Household Income ($) Average Rent ($) Median Rent ($)  \\\n",
       "City   Year                                                                     \n",
       "Oshawa 2016      159458                70211             1070            1015   \n",
       "        2021     175383                86000             1400            1300   \n",
       "\n",
       "             Estimated House Value ($) Unemployment Rate (%)  \\\n",
       "City   Year                                                    \n",
       "Oshawa 2016                       1015                   9.8   \n",
       "        2021                      1300                  15.2   \n",
       "\n",
       "             Property Tax Rate (%) Rented Houses Owned Houses  \n",
       "City   Year                                                    \n",
       "Oshawa 2016               1,561085         19720        42875  \n",
       "        2021              1.304741         23880        42750  "
      ]
     },
     "execution_count": 21,
     "metadata": {},
     "output_type": "execute_result"
    }
   ],
   "source": [
    "#Adding to the df\n",
    "Oshawa_df[\"Rented Houses\"] = [oshawa_rented_2016,oshawa_rented_2021]\n",
    "Oshawa_df[\"Owned Houses\"] = [oshawa_owned_2016,oshawa_owned_2021]\n",
    "Oshawa_df"
   ]
  },
  {
   "cell_type": "markdown",
   "id": "e00e6e7c",
   "metadata": {},
   "source": [
    "**<font size=\"5\">New Housing Built</font>**"
   ]
  },
  {
   "cell_type": "code",
   "execution_count": 22,
   "id": "4870095c",
   "metadata": {},
   "outputs": [
    {
     "data": {
      "text/plain": [
       "834"
      ]
     },
     "execution_count": 22,
     "metadata": {},
     "output_type": "execute_result"
    }
   ],
   "source": [
    "#Listing all my paths\n",
    "data_2016 = Path(\"Resources1/2016 New Built.xlsx\")\n",
    "\n",
    "#Read the csv file\n",
    "df_2016 = pd.read_excel(data_2016, skiprows= [0,1,2,3])\n",
    "oshawa_new__2016 = df_2016.iloc[509][7]\n",
    "oshawa_new__2016"
   ]
  },
  {
   "cell_type": "code",
   "execution_count": 33,
   "id": "32fffce8",
   "metadata": {},
   "outputs": [
    {
     "data": {
      "text/plain": [
       "1416"
      ]
     },
     "execution_count": 33,
     "metadata": {},
     "output_type": "execute_result"
    }
   ],
   "source": [
    "#Listing all my paths\n",
    "data_2021 = Path(\"Resources1/2021 New Built.xlsx\")\n",
    "\n",
    "#Read the csv file\n",
    "df_2021 = pd.read_excel(data_2021, skiprows= [0,1,2,3])\n",
    "oshawa_new__2021 = df_2021.iloc[540][7]\n",
    "oshawa_new__2021"
   ]
  },
  {
   "cell_type": "code",
   "execution_count": 34,
   "id": "8ba844de",
   "metadata": {},
   "outputs": [
    {
     "data": {
      "text/html": [
       "<div>\n",
       "<style scoped>\n",
       "    .dataframe tbody tr th:only-of-type {\n",
       "        vertical-align: middle;\n",
       "    }\n",
       "\n",
       "    .dataframe tbody tr th {\n",
       "        vertical-align: top;\n",
       "    }\n",
       "\n",
       "    .dataframe thead th {\n",
       "        text-align: right;\n",
       "    }\n",
       "</style>\n",
       "<table border=\"1\" class=\"dataframe\">\n",
       "  <thead>\n",
       "    <tr style=\"text-align: right;\">\n",
       "      <th></th>\n",
       "      <th></th>\n",
       "      <th>Population</th>\n",
       "      <th>Household Income ($)</th>\n",
       "      <th>Average Rent ($)</th>\n",
       "      <th>Median Rent ($)</th>\n",
       "      <th>Estimated House Value ($)</th>\n",
       "      <th>Unemployment Rate (%)</th>\n",
       "      <th>Property Tax Rate (%)</th>\n",
       "      <th>Rented Houses</th>\n",
       "      <th>Owned Houses</th>\n",
       "      <th>New Built</th>\n",
       "    </tr>\n",
       "    <tr>\n",
       "      <th>City</th>\n",
       "      <th>Year</th>\n",
       "      <th></th>\n",
       "      <th></th>\n",
       "      <th></th>\n",
       "      <th></th>\n",
       "      <th></th>\n",
       "      <th></th>\n",
       "      <th></th>\n",
       "      <th></th>\n",
       "      <th></th>\n",
       "      <th></th>\n",
       "    </tr>\n",
       "  </thead>\n",
       "  <tbody>\n",
       "    <tr>\n",
       "      <th rowspan=\"2\" valign=\"top\">Oshawa</th>\n",
       "      <th>2016</th>\n",
       "      <td>159458</td>\n",
       "      <td>70211</td>\n",
       "      <td>1070</td>\n",
       "      <td>1015</td>\n",
       "      <td>1015</td>\n",
       "      <td>9.8</td>\n",
       "      <td>1.561085</td>\n",
       "      <td>19720</td>\n",
       "      <td>42875</td>\n",
       "      <td>834</td>\n",
       "    </tr>\n",
       "    <tr>\n",
       "      <th>2021</th>\n",
       "      <td>175383</td>\n",
       "      <td>86000</td>\n",
       "      <td>1400</td>\n",
       "      <td>1300</td>\n",
       "      <td>1300</td>\n",
       "      <td>15.2</td>\n",
       "      <td>1.304741</td>\n",
       "      <td>23880</td>\n",
       "      <td>42750</td>\n",
       "      <td>1416</td>\n",
       "    </tr>\n",
       "  </tbody>\n",
       "</table>\n",
       "</div>"
      ],
      "text/plain": [
       "             Population Household Income ($) Average Rent ($) Median Rent ($)  \\\n",
       "City   Year                                                                     \n",
       "Oshawa 2016      159458                70211             1070            1015   \n",
       "        2021     175383                86000             1400            1300   \n",
       "\n",
       "             Estimated House Value ($) Unemployment Rate (%)  \\\n",
       "City   Year                                                    \n",
       "Oshawa 2016                       1015                   9.8   \n",
       "        2021                      1300                  15.2   \n",
       "\n",
       "             Property Tax Rate (%) Rented Houses Owned Houses  New Built  \n",
       "City   Year                                                               \n",
       "Oshawa 2016               1.561085         19720        42875        834  \n",
       "        2021              1.304741         23880        42750       1416  "
      ]
     },
     "execution_count": 34,
     "metadata": {},
     "output_type": "execute_result"
    }
   ],
   "source": [
    "#Adding to the df\n",
    "Oshawa_df[\"New Built\"] = [oshawa_new__2016,oshawa_new__2021]\n",
    "Oshawa_df"
   ]
  },
  {
   "cell_type": "markdown",
   "id": "f2559bec",
   "metadata": {},
   "source": [
    "**<font size=\"5\">Average Sale Price</font>**"
   ]
  },
  {
   "cell_type": "code",
   "execution_count": null,
   "id": "ffb083d1",
   "metadata": {},
   "outputs": [],
   "source": []
  },
  {
   "cell_type": "code",
   "execution_count": null,
   "id": "9c463ff5",
   "metadata": {},
   "outputs": [],
   "source": []
  },
  {
   "cell_type": "code",
   "execution_count": null,
   "id": "ff90831f",
   "metadata": {},
   "outputs": [],
   "source": []
  },
  {
   "cell_type": "code",
   "execution_count": 36,
   "id": "3c31e1a9",
   "metadata": {},
   "outputs": [
    {
     "data": {
      "text/html": [
       "<div>\n",
       "<style scoped>\n",
       "    .dataframe tbody tr th:only-of-type {\n",
       "        vertical-align: middle;\n",
       "    }\n",
       "\n",
       "    .dataframe tbody tr th {\n",
       "        vertical-align: top;\n",
       "    }\n",
       "\n",
       "    .dataframe thead th {\n",
       "        text-align: right;\n",
       "    }\n",
       "</style>\n",
       "<table border=\"1\" class=\"dataframe\">\n",
       "  <thead>\n",
       "    <tr style=\"text-align: right;\">\n",
       "      <th></th>\n",
       "      <th></th>\n",
       "      <th>Population</th>\n",
       "      <th>Household Income ($)</th>\n",
       "      <th>Average Rent ($)</th>\n",
       "      <th>Median Rent ($)</th>\n",
       "      <th>Estimated House Value ($)</th>\n",
       "      <th>Unemployment Rate (%)</th>\n",
       "      <th>Property Tax Rate (%)</th>\n",
       "      <th>Rented Houses</th>\n",
       "      <th>Owned Houses</th>\n",
       "      <th>New Built</th>\n",
       "    </tr>\n",
       "    <tr>\n",
       "      <th>City</th>\n",
       "      <th>Year</th>\n",
       "      <th></th>\n",
       "      <th></th>\n",
       "      <th></th>\n",
       "      <th></th>\n",
       "      <th></th>\n",
       "      <th></th>\n",
       "      <th></th>\n",
       "      <th></th>\n",
       "      <th></th>\n",
       "      <th></th>\n",
       "    </tr>\n",
       "  </thead>\n",
       "  <tbody>\n",
       "    <tr>\n",
       "      <th rowspan=\"2\" valign=\"top\">Oshawa</th>\n",
       "      <th>2016</th>\n",
       "      <td>159458.0</td>\n",
       "      <td>70211.0</td>\n",
       "      <td>1070.0</td>\n",
       "      <td>1015.0</td>\n",
       "      <td>1015.0</td>\n",
       "      <td>9.8</td>\n",
       "      <td>1.561085</td>\n",
       "      <td>19720.0</td>\n",
       "      <td>42875.0</td>\n",
       "      <td>834.0</td>\n",
       "    </tr>\n",
       "    <tr>\n",
       "      <th>2021</th>\n",
       "      <td>175383.0</td>\n",
       "      <td>86000.0</td>\n",
       "      <td>1400.0</td>\n",
       "      <td>1300.0</td>\n",
       "      <td>1300.0</td>\n",
       "      <td>15.2</td>\n",
       "      <td>1.304741</td>\n",
       "      <td>23880.0</td>\n",
       "      <td>42750.0</td>\n",
       "      <td>1416.0</td>\n",
       "    </tr>\n",
       "  </tbody>\n",
       "</table>\n",
       "</div>"
      ],
      "text/plain": [
       "              Population  Household Income ($)  Average Rent ($)  \\\n",
       "City   Year                                                        \n",
       "Oshawa 2016     159458.0               70211.0            1070.0   \n",
       "        2021    175383.0               86000.0            1400.0   \n",
       "\n",
       "              Median Rent ($)  Estimated House Value ($)  \\\n",
       "City   Year                                                \n",
       "Oshawa 2016            1015.0                     1015.0   \n",
       "        2021           1300.0                     1300.0   \n",
       "\n",
       "              Unemployment Rate (%)  Property Tax Rate (%)  Rented Houses  \\\n",
       "City   Year                                                                 \n",
       "Oshawa 2016                     9.8               1.561085        19720.0   \n",
       "        2021                   15.2               1.304741        23880.0   \n",
       "\n",
       "              Owned Houses  New Built  \n",
       "City   Year                            \n",
       "Oshawa 2016        42875.0      834.0  \n",
       "        2021       42750.0     1416.0  "
      ]
     },
     "execution_count": 36,
     "metadata": {},
     "output_type": "execute_result"
    }
   ],
   "source": [
    "#Changing the df type and printing it to csv\n",
    "Oshawa_df = Oshawa_df.astype(float)\n",
    "Oshawa.to_csv('OUtpuç/out.csv')\n",
    "Oshawa_df"
   ]
  },
  {
   "cell_type": "markdown",
   "id": "ac3b7445",
   "metadata": {},
   "source": [
    "**<font size=\"5\">Schools DataFrame</font>**"
   ]
  },
  {
   "cell_type": "code",
   "execution_count": 25,
   "id": "36068735",
   "metadata": {},
   "outputs": [
    {
     "data": {
      "text/html": [
       "<div>\n",
       "<style scoped>\n",
       "    .dataframe tbody tr th:only-of-type {\n",
       "        vertical-align: middle;\n",
       "    }\n",
       "\n",
       "    .dataframe tbody tr th {\n",
       "        vertical-align: top;\n",
       "    }\n",
       "\n",
       "    .dataframe thead th {\n",
       "        text-align: right;\n",
       "    }\n",
       "</style>\n",
       "<table border=\"1\" class=\"dataframe\">\n",
       "  <thead>\n",
       "    <tr style=\"text-align: right;\">\n",
       "      <th></th>\n",
       "      <th>Board name</th>\n",
       "      <th>City</th>\n",
       "      <th>Board type</th>\n",
       "    </tr>\n",
       "    <tr>\n",
       "      <th>Board number</th>\n",
       "      <th></th>\n",
       "      <th></th>\n",
       "      <th></th>\n",
       "    </tr>\n",
       "  </thead>\n",
       "  <tbody>\n",
       "    <tr>\n",
       "      <th>B80020</th>\n",
       "      <td>Campbell Children’s School Authority</td>\n",
       "      <td>Oshawa</td>\n",
       "      <td>Provincial/Hospital</td>\n",
       "    </tr>\n",
       "    <tr>\n",
       "      <th>B67105</th>\n",
       "      <td>Durham Catholic District School Board</td>\n",
       "      <td>Oshawa</td>\n",
       "      <td>Catholic District School Board (English/French)</td>\n",
       "    </tr>\n",
       "  </tbody>\n",
       "</table>\n",
       "</div>"
      ],
      "text/plain": [
       "                                         Board name    City  \\\n",
       "Board number                                                  \n",
       "B80020         Campbell Children’s School Authority  Oshawa   \n",
       "B67105        Durham Catholic District School Board  Oshawa   \n",
       "\n",
       "                                                   Board type  \n",
       "Board number                                                   \n",
       "B80020                                    Provincial/Hospital  \n",
       "B67105        Catholic District School Board (English/French)  "
      ]
     },
     "execution_count": 25,
     "metadata": {},
     "output_type": "execute_result"
    }
   ],
   "source": [
    "#Listing my paths\n",
    "school_boards = Path('Resources1/School Boards.csv')\n",
    "\n",
    "\n",
    "#Creating the df\n",
    "boards = pd.read_csv(school_boards)\n",
    "df = boards.loc[boards[\"City\"]==\"Oshawa\"]\n",
    "oshawa_school_df = df[[\"Board name\", \"City\",\"Board type\",\"Board number\"]].set_index('Board number')\n",
    "oshawa_school_df"
   ]
  },
  {
   "cell_type": "markdown",
   "id": "dedb0f25",
   "metadata": {},
   "source": [
    "**<font size=\"5\">Leisure DataFrame</font>**"
   ]
  },
  {
   "cell_type": "code",
   "execution_count": null,
   "id": "67e8f4fd",
   "metadata": {},
   "outputs": [],
   "source": []
  }
 ],
 "metadata": {
  "kernelspec": {
   "display_name": "Python 3 (ipykernel)",
   "language": "python",
   "name": "python3"
  },
  "language_info": {
   "codemirror_mode": {
    "name": "ipython",
    "version": 3
   },
   "file_extension": ".py",
   "mimetype": "text/x-python",
   "name": "python",
   "nbconvert_exporter": "python",
   "pygments_lexer": "ipython3",
   "version": "3.11.5"
  }
 },
 "nbformat": 4,
 "nbformat_minor": 5
}
